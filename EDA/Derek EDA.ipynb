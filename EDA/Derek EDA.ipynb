{
 "cells": [
  {
   "cell_type": "markdown",
   "metadata": {},
   "source": [
    "# Project Title"
   ]
  },
  {
   "cell_type": "markdown",
   "metadata": {},
   "source": [
    "## Overview\n",
    "\n",
    "A one-paragraph overview of the project, including the business problem, data, methods, results and recommendations.\n",
    "\n",
    "## Business Problem\n",
    "\n",
    "Summary of the business problem you are trying to solve, and the data questions that you plan to answer to solve them.\n",
    "\n",
    "Questions to consider:\n",
    "\n",
    "- Who are your stakeholders?\n",
    "- What are your stakeholders' pain points related to this project?\n",
    "- Why are your predictions important from a business perspective?\n",
    "- What exactly is your deliverable: your analysis, or the model itself?\n",
    "- Does your business understanding/stakeholder require a specific type of model?\n",
    "    - For example: a highly regulated industry would require a very transparent/simple/interpretable model, whereas a situation where the model itself is your deliverable would likely benefit from a more complex and thus stronger model\n",
    "   \n",
    "\n",
    "Additional questions to consider for classification:\n",
    "\n",
    "- What does a false positive look like in this context?\n",
    "- What does a false negative look like in this context?\n",
    "- Which is worse for your stakeholder?\n",
    "- What metric are you focusing on optimizing, given the answers to the above questions?"
   ]
  },
  {
   "cell_type": "markdown",
   "metadata": {},
   "source": [
    "## Data Understanding\n",
    "\n",
    "Describe the data being used for this project.\n",
    "\n",
    "Questions to consider:\n",
    "\n",
    "- Where did the data come from, and how do they relate to the data analysis questions?\n",
    "- What do the data represent? Who is in the sample and what variables are included?\n",
    "- What is the target variable?\n",
    "- What are the properties of the variables you intend to use?"
   ]
  },
  {
   "cell_type": "code",
   "execution_count": 1,
   "metadata": {},
   "outputs": [],
   "source": [
    "# code here to explore your data\n",
    "import pandas as pd\n",
    "\n",
    "df_l = pd.read_csv('../../data/Training Set Labels.csv')\n",
    "df_v = pd.read_csv('../../data/Training Set Values.csv')"
   ]
  },
  {
   "cell_type": "code",
   "execution_count": 2,
   "metadata": {},
   "outputs": [],
   "source": [
    "import numpy as np\n",
    "import matplotlib.pyplot as plt\n",
    "import seaborn as sns"
   ]
  },
  {
   "cell_type": "markdown",
   "metadata": {},
   "source": [
    "## Data Preparation\n",
    "\n",
    "Describe and justify the process for preparing the data for analysis.\n",
    "\n",
    "Questions to consider:\n",
    "\n",
    "- Were there variables you dropped or created?\n",
    "- How did you address missing values or outliers?\n",
    "- Why are these choices appropriate given the data and the business problem?\n",
    "- Can you pipeline your preparation steps to use them consistently in the modeling process?"
   ]
  },
  {
   "cell_type": "code",
   "execution_count": 3,
   "metadata": {},
   "outputs": [],
   "source": [
    "df = pd.merge(df_v, df_l, on='id')\n",
    "del df_l"
   ]
  },
  {
   "cell_type": "code",
   "execution_count": 4,
   "metadata": {},
   "outputs": [
    {
     "name": "stdout",
     "output_type": "stream",
     "text": [
      "<class 'pandas.core.frame.DataFrame'>\n",
      "Int64Index: 59400 entries, 0 to 59399\n",
      "Data columns (total 41 columns):\n",
      " #   Column                 Non-Null Count  Dtype  \n",
      "---  ------                 --------------  -----  \n",
      " 0   id                     59400 non-null  int64  \n",
      " 1   amount_tsh             59400 non-null  float64\n",
      " 2   date_recorded          59400 non-null  object \n",
      " 3   funder                 55765 non-null  object \n",
      " 4   gps_height             59400 non-null  int64  \n",
      " 5   installer              55745 non-null  object \n",
      " 6   longitude              59400 non-null  float64\n",
      " 7   latitude               59400 non-null  float64\n",
      " 8   wpt_name               59400 non-null  object \n",
      " 9   num_private            59400 non-null  int64  \n",
      " 10  basin                  59400 non-null  object \n",
      " 11  subvillage             59029 non-null  object \n",
      " 12  region                 59400 non-null  object \n",
      " 13  region_code            59400 non-null  int64  \n",
      " 14  district_code          59400 non-null  int64  \n",
      " 15  lga                    59400 non-null  object \n",
      " 16  ward                   59400 non-null  object \n",
      " 17  population             59400 non-null  int64  \n",
      " 18  public_meeting         56066 non-null  object \n",
      " 19  recorded_by            59400 non-null  object \n",
      " 20  scheme_management      55523 non-null  object \n",
      " 21  scheme_name            31234 non-null  object \n",
      " 22  permit                 56344 non-null  object \n",
      " 23  construction_year      59400 non-null  int64  \n",
      " 24  extraction_type        59400 non-null  object \n",
      " 25  extraction_type_group  59400 non-null  object \n",
      " 26  extraction_type_class  59400 non-null  object \n",
      " 27  management             59400 non-null  object \n",
      " 28  management_group       59400 non-null  object \n",
      " 29  payment                59400 non-null  object \n",
      " 30  payment_type           59400 non-null  object \n",
      " 31  water_quality          59400 non-null  object \n",
      " 32  quality_group          59400 non-null  object \n",
      " 33  quantity               59400 non-null  object \n",
      " 34  quantity_group         59400 non-null  object \n",
      " 35  source                 59400 non-null  object \n",
      " 36  source_type            59400 non-null  object \n",
      " 37  source_class           59400 non-null  object \n",
      " 38  waterpoint_type        59400 non-null  object \n",
      " 39  waterpoint_type_group  59400 non-null  object \n",
      " 40  status_group           59400 non-null  object \n",
      "dtypes: float64(3), int64(7), object(31)\n",
      "memory usage: 19.0+ MB\n"
     ]
    }
   ],
   "source": [
    "df.info()"
   ]
  },
  {
   "cell_type": "code",
   "execution_count": 5,
   "metadata": {},
   "outputs": [
    {
     "data": {
      "text/plain": [
       "id                           0\n",
       "amount_tsh                   0\n",
       "date_recorded                0\n",
       "funder                    3635\n",
       "gps_height                   0\n",
       "installer                 3655\n",
       "longitude                    0\n",
       "latitude                     0\n",
       "wpt_name                     0\n",
       "num_private                  0\n",
       "basin                        0\n",
       "subvillage                 371\n",
       "region                       0\n",
       "region_code                  0\n",
       "district_code                0\n",
       "lga                          0\n",
       "ward                         0\n",
       "population                   0\n",
       "public_meeting            3334\n",
       "recorded_by                  0\n",
       "scheme_management         3877\n",
       "scheme_name              28166\n",
       "permit                    3056\n",
       "construction_year            0\n",
       "extraction_type              0\n",
       "extraction_type_group        0\n",
       "extraction_type_class        0\n",
       "management                   0\n",
       "management_group             0\n",
       "payment                      0\n",
       "payment_type                 0\n",
       "water_quality                0\n",
       "quality_group                0\n",
       "quantity                     0\n",
       "quantity_group               0\n",
       "source                       0\n",
       "source_type                  0\n",
       "source_class                 0\n",
       "waterpoint_type              0\n",
       "waterpoint_type_group        0\n",
       "status_group                 0\n",
       "dtype: int64"
      ]
     },
     "execution_count": 5,
     "metadata": {},
     "output_type": "execute_result"
    }
   ],
   "source": [
    "df.isna().sum()"
   ]
  },
  {
   "cell_type": "code",
   "execution_count": 6,
   "metadata": {},
   "outputs": [
    {
     "data": {
      "text/plain": [
       "Government Of Tanzania     9084\n",
       "Danida                     3114\n",
       "Hesawa                     2202\n",
       "Rwssp                      1374\n",
       "World Bank                 1349\n",
       "                           ... \n",
       "Rhobi Wambura                 1\n",
       "Bukwang Church Saint          1\n",
       "Rc/dwe                        1\n",
       "Hotels And Loggs Tz Ltd       1\n",
       "Gg                            1\n",
       "Name: funder, Length: 1897, dtype: int64"
      ]
     },
     "execution_count": 6,
     "metadata": {},
     "output_type": "execute_result"
    }
   ],
   "source": [
    "df.funder.value_counts()"
   ]
  },
  {
   "cell_type": "code",
   "execution_count": 7,
   "metadata": {},
   "outputs": [],
   "source": [
    "def funder_top5(row):  \n",
    "    '''Making top 5 values and setting the rest to 'other'''\n",
    "\n",
    "    if row['funder']=='Government Of Tanzania':\n",
    "        return 'Gov'\n",
    "    elif row['funder']=='Danida':\n",
    "        return 'Danida'\n",
    "    elif row['funder']=='Hesawa':\n",
    "        return 'Hesawa'\n",
    "    elif row['funder']=='Rwssp':\n",
    "        return 'Rwssp'\n",
    "    elif row['funder']=='World Bank':\n",
    "        return 'World_bank'    \n",
    "    else:\n",
    "        return 'other'\n",
    "    \n",
    "df['funder'] = df.apply(lambda row: funder_top5(row), axis=1)"
   ]
  },
  {
   "cell_type": "code",
   "execution_count": 8,
   "metadata": {},
   "outputs": [],
   "source": [
    "str_to_num = {'functional':1, 'functional needs repair':0,\n",
    "                   'non functional':0}\n",
    "\n",
    "df['status_group_new']  = df['status_group'].replace(str_to_num)"
   ]
  },
  {
   "cell_type": "code",
   "execution_count": 9,
   "metadata": {
    "scrolled": true
   },
   "outputs": [
    {
     "data": {
      "text/html": [
       "<div>\n",
       "<style scoped>\n",
       "    .dataframe tbody tr th:only-of-type {\n",
       "        vertical-align: middle;\n",
       "    }\n",
       "\n",
       "    .dataframe tbody tr th {\n",
       "        vertical-align: top;\n",
       "    }\n",
       "\n",
       "    .dataframe thead th {\n",
       "        text-align: right;\n",
       "    }\n",
       "</style>\n",
       "<table border=\"1\" class=\"dataframe\">\n",
       "  <thead>\n",
       "    <tr style=\"text-align: right;\">\n",
       "      <th></th>\n",
       "      <th></th>\n",
       "      <th>status_group_new</th>\n",
       "    </tr>\n",
       "    <tr>\n",
       "      <th>funder</th>\n",
       "      <th>status_group</th>\n",
       "      <th></th>\n",
       "    </tr>\n",
       "  </thead>\n",
       "  <tbody>\n",
       "    <tr>\n",
       "      <th rowspan=\"3\" valign=\"top\">Danida</th>\n",
       "      <th>functional</th>\n",
       "      <td>1713</td>\n",
       "    </tr>\n",
       "    <tr>\n",
       "      <th>functional needs repair</th>\n",
       "      <td>159</td>\n",
       "    </tr>\n",
       "    <tr>\n",
       "      <th>non functional</th>\n",
       "      <td>1242</td>\n",
       "    </tr>\n",
       "    <tr>\n",
       "      <th rowspan=\"3\" valign=\"top\">Gov</th>\n",
       "      <th>functional</th>\n",
       "      <td>3720</td>\n",
       "    </tr>\n",
       "    <tr>\n",
       "      <th>functional needs repair</th>\n",
       "      <td>701</td>\n",
       "    </tr>\n",
       "    <tr>\n",
       "      <th>non functional</th>\n",
       "      <td>4663</td>\n",
       "    </tr>\n",
       "    <tr>\n",
       "      <th rowspan=\"3\" valign=\"top\">Hesawa</th>\n",
       "      <th>functional</th>\n",
       "      <td>936</td>\n",
       "    </tr>\n",
       "    <tr>\n",
       "      <th>functional needs repair</th>\n",
       "      <td>232</td>\n",
       "    </tr>\n",
       "    <tr>\n",
       "      <th>non functional</th>\n",
       "      <td>1034</td>\n",
       "    </tr>\n",
       "    <tr>\n",
       "      <th rowspan=\"3\" valign=\"top\">Rwssp</th>\n",
       "      <th>functional</th>\n",
       "      <td>805</td>\n",
       "    </tr>\n",
       "    <tr>\n",
       "      <th>functional needs repair</th>\n",
       "      <td>109</td>\n",
       "    </tr>\n",
       "    <tr>\n",
       "      <th>non functional</th>\n",
       "      <td>460</td>\n",
       "    </tr>\n",
       "    <tr>\n",
       "      <th rowspan=\"3\" valign=\"top\">World_bank</th>\n",
       "      <th>functional</th>\n",
       "      <td>545</td>\n",
       "    </tr>\n",
       "    <tr>\n",
       "      <th>functional needs repair</th>\n",
       "      <td>97</td>\n",
       "    </tr>\n",
       "    <tr>\n",
       "      <th>non functional</th>\n",
       "      <td>707</td>\n",
       "    </tr>\n",
       "    <tr>\n",
       "      <th rowspan=\"3\" valign=\"top\">other</th>\n",
       "      <th>functional</th>\n",
       "      <td>24540</td>\n",
       "    </tr>\n",
       "    <tr>\n",
       "      <th>functional needs repair</th>\n",
       "      <td>3019</td>\n",
       "    </tr>\n",
       "    <tr>\n",
       "      <th>non functional</th>\n",
       "      <td>14718</td>\n",
       "    </tr>\n",
       "  </tbody>\n",
       "</table>\n",
       "</div>"
      ],
      "text/plain": [
       "                                    status_group_new\n",
       "funder     status_group                             \n",
       "Danida     functional                           1713\n",
       "           functional needs repair               159\n",
       "           non functional                       1242\n",
       "Gov        functional                           3720\n",
       "           functional needs repair               701\n",
       "           non functional                       4663\n",
       "Hesawa     functional                            936\n",
       "           functional needs repair               232\n",
       "           non functional                       1034\n",
       "Rwssp      functional                            805\n",
       "           functional needs repair               109\n",
       "           non functional                        460\n",
       "World_bank functional                            545\n",
       "           functional needs repair                97\n",
       "           non functional                        707\n",
       "other      functional                          24540\n",
       "           functional needs repair              3019\n",
       "           non functional                      14718"
      ]
     },
     "execution_count": 9,
     "metadata": {},
     "output_type": "execute_result"
    }
   ],
   "source": [
    "piv_table = pd.pivot_table(df,index=['funder','status_group'],\n",
    "                           values='status_group_new', aggfunc='count')\n",
    "piv_table"
   ]
  },
  {
   "cell_type": "code",
   "execution_count": 10,
   "metadata": {},
   "outputs": [
    {
     "name": "stdout",
     "output_type": "stream",
     "text": [
      "Percent functional danida:  status_group_new    55.01\n",
      "dtype: float64\n",
      "Percent functional gov:  status_group_new    65.69\n",
      "dtype: float64\n",
      "Percent functional hesawa:  status_group_new    42.507\n",
      "dtype: float64\n",
      "Percent functional other:  status_group_new    58.046\n",
      "dtype: float64\n",
      "Percent functional rwssp:  status_group_new    58.588\n",
      "dtype: float64\n",
      "Percent functional world bank:  status_group_new    40.4\n",
      "dtype: float64\n"
     ]
    }
   ],
   "source": [
    "# code here to prepare your data\n",
    "total_danida = piv_table.loc[('Danida','functional')] + piv_table.loc[('Danida','functional needs repair')] + piv_table.loc[('Danida','non functional')]\n",
    "percent_functional_danida = (piv_table.loc[('Danida','functional')] / total_danida) * 100\n",
    "\n",
    "total_gov = piv_table.loc[('Gov','functional')] + piv_table.loc[('Gov','functional needs repair')] + piv_table.loc[('Danida','non functional')]\n",
    "percent_functional_gov = (piv_table.loc[('Gov','functional')] / total_gov) * 100\n",
    "\n",
    "total_hesawa = piv_table.loc[('Hesawa','functional')] + piv_table.loc[('Hesawa','functional needs repair')] + piv_table.loc[('Hesawa','non functional')]\n",
    "percent_functional_hesawa = (piv_table.loc[('Hesawa','functional')] / total_hesawa) * 100\n",
    "\n",
    "total_rwssp = piv_table.loc[('Rwssp','functional')] + piv_table.loc[('Rwssp','functional needs repair')] + piv_table.loc[('Rwssp','non functional')]\n",
    "percent_functional_rwssp = (piv_table.loc[('Rwssp','functional')] / total_rwssp) * 100\n",
    "\n",
    "total_world_bank = piv_table.loc[('World_bank','functional')] + piv_table.loc[('World_bank','functional needs repair')] + piv_table.loc[('World_bank','non functional')]\n",
    "percent_functional_world_bank = (piv_table.loc[('World_bank', 'functional')] / total_world_bank) * 100\n",
    "\n",
    "total_other = piv_table.loc[('other', 'functional')] + piv_table.loc[('other', 'functional needs repair')] + piv_table.loc[('other','non functional')]\n",
    "percent_functional_other = (piv_table.loc[('other','functional')] / total_other) * 100\n",
    "\n",
    "print('Percent functional danida: ', round(percent_functional_danida,3))\n",
    "print('Percent functional gov: ', round(percent_functional_gov,3))\n",
    "print('Percent functional hesawa: ', round(percent_functional_hesawa,3))\n",
    "print('Percent functional other: ', round(percent_functional_other,3))\n",
    "print('Percent functional rwssp: ', round(percent_functional_rwssp,3))\n",
    "print('Percent functional world bank: ', round(percent_functional_world_bank,3))"
   ]
  },
  {
   "cell_type": "code",
   "execution_count": 11,
   "metadata": {},
   "outputs": [
    {
     "data": {
      "text/plain": [
       "DWE               17402\n",
       "Government         1825\n",
       "RWE                1206\n",
       "Commu              1060\n",
       "DANIDA             1050\n",
       "                  ...  \n",
       "Tareto                1\n",
       "Wadeco                1\n",
       "TASAF and MMEM        1\n",
       "MTAMBO                1\n",
       "Arab community        1\n",
       "Name: installer, Length: 2145, dtype: int64"
      ]
     },
     "execution_count": 11,
     "metadata": {},
     "output_type": "execute_result"
    }
   ],
   "source": [
    "df.installer.value_counts()\n"
   ]
  },
  {
   "cell_type": "code",
   "execution_count": 12,
   "metadata": {},
   "outputs": [],
   "source": [
    "def installer_top5(row):\n",
    "    '''Keep top 5 values and set the rest to 'other'''\n",
    "    if row['installer']=='DWE':\n",
    "        return 'DWE'\n",
    "    elif row['installer']=='Government':\n",
    "        return 'Gov'\n",
    "    elif row['installer']=='RWE':\n",
    "        return 'RWE'\n",
    "    elif row['installer']=='Commu':\n",
    "        return 'Commu'\n",
    "    elif row['installer']=='DANIDA':\n",
    "        return 'Danida'\n",
    "    else:\n",
    "        return 'other'  \n",
    "\n",
    "df['installer'] = df.apply(lambda row: installer_top5(row), axis=1)"
   ]
  },
  {
   "cell_type": "code",
   "execution_count": 13,
   "metadata": {},
   "outputs": [
    {
     "data": {
      "text/html": [
       "<div>\n",
       "<style scoped>\n",
       "    .dataframe tbody tr th:only-of-type {\n",
       "        vertical-align: middle;\n",
       "    }\n",
       "\n",
       "    .dataframe tbody tr th {\n",
       "        vertical-align: top;\n",
       "    }\n",
       "\n",
       "    .dataframe thead th {\n",
       "        text-align: right;\n",
       "    }\n",
       "</style>\n",
       "<table border=\"1\" class=\"dataframe\">\n",
       "  <thead>\n",
       "    <tr style=\"text-align: right;\">\n",
       "      <th></th>\n",
       "      <th></th>\n",
       "      <th>status_group_new</th>\n",
       "    </tr>\n",
       "    <tr>\n",
       "      <th>installer</th>\n",
       "      <th>status_group</th>\n",
       "      <th></th>\n",
       "    </tr>\n",
       "  </thead>\n",
       "  <tbody>\n",
       "    <tr>\n",
       "      <th rowspan=\"3\" valign=\"top\">Commu</th>\n",
       "      <th>functional</th>\n",
       "      <td>724</td>\n",
       "    </tr>\n",
       "    <tr>\n",
       "      <th>functional needs repair</th>\n",
       "      <td>32</td>\n",
       "    </tr>\n",
       "    <tr>\n",
       "      <th>non functional</th>\n",
       "      <td>304</td>\n",
       "    </tr>\n",
       "    <tr>\n",
       "      <th rowspan=\"3\" valign=\"top\">DWE</th>\n",
       "      <th>functional</th>\n",
       "      <td>9433</td>\n",
       "    </tr>\n",
       "    <tr>\n",
       "      <th>functional needs repair</th>\n",
       "      <td>1622</td>\n",
       "    </tr>\n",
       "    <tr>\n",
       "      <th>non functional</th>\n",
       "      <td>6347</td>\n",
       "    </tr>\n",
       "    <tr>\n",
       "      <th rowspan=\"3\" valign=\"top\">Danida</th>\n",
       "      <th>functional</th>\n",
       "      <td>542</td>\n",
       "    </tr>\n",
       "    <tr>\n",
       "      <th>functional needs repair</th>\n",
       "      <td>83</td>\n",
       "    </tr>\n",
       "    <tr>\n",
       "      <th>non functional</th>\n",
       "      <td>425</td>\n",
       "    </tr>\n",
       "    <tr>\n",
       "      <th rowspan=\"3\" valign=\"top\">Gov</th>\n",
       "      <th>functional</th>\n",
       "      <td>535</td>\n",
       "    </tr>\n",
       "    <tr>\n",
       "      <th>functional needs repair</th>\n",
       "      <td>256</td>\n",
       "    </tr>\n",
       "    <tr>\n",
       "      <th>non functional</th>\n",
       "      <td>1034</td>\n",
       "    </tr>\n",
       "    <tr>\n",
       "      <th rowspan=\"3\" valign=\"top\">RWE</th>\n",
       "      <th>functional</th>\n",
       "      <td>304</td>\n",
       "    </tr>\n",
       "    <tr>\n",
       "      <th>functional needs repair</th>\n",
       "      <td>137</td>\n",
       "    </tr>\n",
       "    <tr>\n",
       "      <th>non functional</th>\n",
       "      <td>765</td>\n",
       "    </tr>\n",
       "    <tr>\n",
       "      <th rowspan=\"3\" valign=\"top\">other</th>\n",
       "      <th>functional</th>\n",
       "      <td>20721</td>\n",
       "    </tr>\n",
       "    <tr>\n",
       "      <th>functional needs repair</th>\n",
       "      <td>2187</td>\n",
       "    </tr>\n",
       "    <tr>\n",
       "      <th>non functional</th>\n",
       "      <td>13949</td>\n",
       "    </tr>\n",
       "  </tbody>\n",
       "</table>\n",
       "</div>"
      ],
      "text/plain": [
       "                                   status_group_new\n",
       "installer status_group                             \n",
       "Commu     functional                            724\n",
       "          functional needs repair                32\n",
       "          non functional                        304\n",
       "DWE       functional                           9433\n",
       "          functional needs repair              1622\n",
       "          non functional                       6347\n",
       "Danida    functional                            542\n",
       "          functional needs repair                83\n",
       "          non functional                        425\n",
       "Gov       functional                            535\n",
       "          functional needs repair               256\n",
       "          non functional                       1034\n",
       "RWE       functional                            304\n",
       "          functional needs repair               137\n",
       "          non functional                        765\n",
       "other     functional                          20721\n",
       "          functional needs repair              2187\n",
       "          non functional                      13949"
      ]
     },
     "execution_count": 13,
     "metadata": {},
     "output_type": "execute_result"
    }
   ],
   "source": [
    "piv_table2 = pd.pivot_table(df,index=['installer','status_group'],\n",
    "                           values='status_group_new', aggfunc='count')\n",
    "piv_table2"
   ]
  },
  {
   "cell_type": "code",
   "execution_count": 14,
   "metadata": {},
   "outputs": [
    {
     "name": "stdout",
     "output_type": "stream",
     "text": [
      "Percent functional commu:  status_group_new    68.302\n",
      "dtype: float64\n",
      "Percent functional dwe:  status_group_new    54.206\n",
      "dtype: float64\n",
      "Percent functional rwe:  status_group_new    60.033\n",
      "dtype: float64\n",
      "Percent functional other:  status_group_new    56.22\n",
      "dtype: float64\n"
     ]
    }
   ],
   "source": [
    "total_commu = piv_table2.loc[('Commu', 'functional')] + piv_table2.loc[('Commu', 'functional needs repair')] + piv_table2.loc[('Commu', 'non functional')]\n",
    "percent_functional_commu = (piv_table2.loc[('Commu', 'functional')] / total_commu) * 100\n",
    "\n",
    "total_dwe = piv_table2.loc[('DWE', 'functional')] + piv_table2.loc[('DWE', 'functional needs repair')] + piv_table2.loc[('DWE', 'non functional')]\n",
    "percent_functional_dwe = (piv_table2.loc[('DWE', 'functional')] / total_dwe) * 100\n",
    "\n",
    "total_rwe = piv_table2.loc[('RWE', 'functional')] + piv_table2.loc[('RWE', 'functional needs repair')] + piv_table2.loc[('RWE', 'non functional')]\n",
    "percent_functional_rwe = (piv_table2.loc[('Commu', 'functional')] / total_rwe) * 100\n",
    "\n",
    "total_other = piv_table2.loc[('other', 'functional')] + piv_table2.loc[('other', 'functional needs repair')] + piv_table2.loc[('other', 'non functional')]\n",
    "percent_functional_other = (piv_table2.loc[('other', 'functional')] / total_other) * 100\n",
    "\n",
    "print('Percent functional commu: ', round(percent_functional_commu,3))\n",
    "print('Percent functional dwe: ', round(percent_functional_dwe,3))\n",
    "print('Percent functional rwe: ', round(percent_functional_rwe,3))\n",
    "print('Percent functional other: ', round(percent_functional_other,3))\n",
    "\n"
   ]
  },
  {
   "cell_type": "code",
   "execution_count": 15,
   "metadata": {},
   "outputs": [
    {
     "data": {
      "text/plain": [
       "VWC                 36793\n",
       "WUG                  5206\n",
       "Water authority      3153\n",
       "WUA                  2883\n",
       "Water Board          2748\n",
       "Parastatal           1680\n",
       "Private operator     1063\n",
       "Company              1061\n",
       "Other                 766\n",
       "SWC                    97\n",
       "Trust                  72\n",
       "None                    1\n",
       "Name: scheme_management, dtype: int64"
      ]
     },
     "execution_count": 15,
     "metadata": {},
     "output_type": "execute_result"
    }
   ],
   "source": [
    "df.scheme_management.value_counts()"
   ]
  },
  {
   "cell_type": "code",
   "execution_count": 16,
   "metadata": {},
   "outputs": [],
   "source": [
    "def scheme_top5(row):\n",
    "    '''Keep top 5 values and set the rest to 'other'. '''\n",
    "    if row['scheme_management']=='VWC':\n",
    "        return 'VWC'\n",
    "    elif row['scheme_management']=='WUG':\n",
    "        return 'WUG'\n",
    "    elif row['scheme_management']=='Water authority':\n",
    "        return 'Water Authority'\n",
    "    elif row['scheme_management']=='WUA':\n",
    "        return 'WUA'\n",
    "    elif row['scheme_management']=='Water Board':\n",
    "        return 'Water Board'\n",
    "    else:\n",
    "        return 'other'\n",
    "\n",
    "df['scheme_management'] = df.apply(lambda row: scheme_top5(row), axis=1)"
   ]
  },
  {
   "cell_type": "code",
   "execution_count": 17,
   "metadata": {},
   "outputs": [
    {
     "data": {
      "text/html": [
       "<div>\n",
       "<style scoped>\n",
       "    .dataframe tbody tr th:only-of-type {\n",
       "        vertical-align: middle;\n",
       "    }\n",
       "\n",
       "    .dataframe tbody tr th {\n",
       "        vertical-align: top;\n",
       "    }\n",
       "\n",
       "    .dataframe thead th {\n",
       "        text-align: right;\n",
       "    }\n",
       "</style>\n",
       "<table border=\"1\" class=\"dataframe\">\n",
       "  <thead>\n",
       "    <tr style=\"text-align: right;\">\n",
       "      <th></th>\n",
       "      <th></th>\n",
       "      <th>status_group_new</th>\n",
       "    </tr>\n",
       "    <tr>\n",
       "      <th>scheme_management</th>\n",
       "      <th>status_group</th>\n",
       "      <th></th>\n",
       "    </tr>\n",
       "  </thead>\n",
       "  <tbody>\n",
       "    <tr>\n",
       "      <th rowspan=\"3\" valign=\"top\">VWC</th>\n",
       "      <th>functional</th>\n",
       "      <td>18960</td>\n",
       "    </tr>\n",
       "    <tr>\n",
       "      <th>functional needs repair</th>\n",
       "      <td>2334</td>\n",
       "    </tr>\n",
       "    <tr>\n",
       "      <th>non functional</th>\n",
       "      <td>15499</td>\n",
       "    </tr>\n",
       "    <tr>\n",
       "      <th rowspan=\"3\" valign=\"top\">WUA</th>\n",
       "      <th>functional</th>\n",
       "      <td>1995</td>\n",
       "    </tr>\n",
       "    <tr>\n",
       "      <th>functional needs repair</th>\n",
       "      <td>239</td>\n",
       "    </tr>\n",
       "    <tr>\n",
       "      <th>non functional</th>\n",
       "      <td>649</td>\n",
       "    </tr>\n",
       "    <tr>\n",
       "      <th rowspan=\"3\" valign=\"top\">WUG</th>\n",
       "      <th>functional</th>\n",
       "      <td>3006</td>\n",
       "    </tr>\n",
       "    <tr>\n",
       "      <th>functional needs repair</th>\n",
       "      <td>672</td>\n",
       "    </tr>\n",
       "    <tr>\n",
       "      <th>non functional</th>\n",
       "      <td>1528</td>\n",
       "    </tr>\n",
       "    <tr>\n",
       "      <th rowspan=\"3\" valign=\"top\">Water Authority</th>\n",
       "      <th>functional</th>\n",
       "      <td>1618</td>\n",
       "    </tr>\n",
       "    <tr>\n",
       "      <th>functional needs repair</th>\n",
       "      <td>448</td>\n",
       "    </tr>\n",
       "    <tr>\n",
       "      <th>non functional</th>\n",
       "      <td>1087</td>\n",
       "    </tr>\n",
       "    <tr>\n",
       "      <th rowspan=\"3\" valign=\"top\">Water Board</th>\n",
       "      <th>functional</th>\n",
       "      <td>2053</td>\n",
       "    </tr>\n",
       "    <tr>\n",
       "      <th>functional needs repair</th>\n",
       "      <td>111</td>\n",
       "    </tr>\n",
       "    <tr>\n",
       "      <th>non functional</th>\n",
       "      <td>584</td>\n",
       "    </tr>\n",
       "    <tr>\n",
       "      <th rowspan=\"3\" valign=\"top\">other</th>\n",
       "      <th>functional</th>\n",
       "      <td>4627</td>\n",
       "    </tr>\n",
       "    <tr>\n",
       "      <th>functional needs repair</th>\n",
       "      <td>513</td>\n",
       "    </tr>\n",
       "    <tr>\n",
       "      <th>non functional</th>\n",
       "      <td>3477</td>\n",
       "    </tr>\n",
       "  </tbody>\n",
       "</table>\n",
       "</div>"
      ],
      "text/plain": [
       "                                           status_group_new\n",
       "scheme_management status_group                             \n",
       "VWC               functional                          18960\n",
       "                  functional needs repair              2334\n",
       "                  non functional                      15499\n",
       "WUA               functional                           1995\n",
       "                  functional needs repair               239\n",
       "                  non functional                        649\n",
       "WUG               functional                           3006\n",
       "                  functional needs repair               672\n",
       "                  non functional                       1528\n",
       "Water Authority   functional                           1618\n",
       "                  functional needs repair               448\n",
       "                  non functional                       1087\n",
       "Water Board       functional                           2053\n",
       "                  functional needs repair               111\n",
       "                  non functional                        584\n",
       "other             functional                           4627\n",
       "                  functional needs repair               513\n",
       "                  non functional                       3477"
      ]
     },
     "execution_count": 17,
     "metadata": {},
     "output_type": "execute_result"
    }
   ],
   "source": [
    "piv_table3 = pd.pivot_table(df, index=['scheme_management', 'status_group'],\n",
    "                           values='status_group_new', aggfunc='count')\n",
    "piv_table3"
   ]
  },
  {
   "cell_type": "code",
   "execution_count": 18,
   "metadata": {},
   "outputs": [
    {
     "name": "stdout",
     "output_type": "stream",
     "text": [
      "Percent functional other:  status_group_new    53.696\n",
      "dtype: float64\n",
      "Percent functional vwc:  status_group_new    51.532\n",
      "dtype: float64\n",
      "Percent functional water authority:  status_group_new    51.316\n",
      "dtype: float64\n",
      "Percent functional water board:  status_group_new    58.879\n",
      "dtype: float64\n",
      "Percent functional wua:  status_group_new    69.199\n",
      "dtype: float64\n",
      "Percent functional wug:  status_group_new    57.741\n",
      "dtype: float64\n"
     ]
    }
   ],
   "source": [
    "total_vwc = piv_table3.loc[('VWC', 'functional')] + piv_table3.loc[('VWC','functional needs repair')] + piv_table3.loc[('VWC','non functional')]\n",
    "percent_functional_vwc = (piv_table3.loc[('VWC', 'functional')] / total_vwc) * 100\n",
    "\n",
    "total_wua = piv_table3.loc[('WUA', 'functional')] + piv_table3.loc[('WUA','functional needs repair')] + piv_table3.loc[('WUA','non functional')]\n",
    "percent_functional_wua = (piv_table3.loc[('WUA', 'functional')] / total_wua) * 100\n",
    "\n",
    "total_wug = piv_table3.loc[('WUG', 'functional')] + piv_table3.loc[('WUG','functional needs repair')] + piv_table3.loc[('WUG','non functional')]\n",
    "percent_functional_wug = (piv_table3.loc[('WUG', 'functional')] / total_wug) * 100\n",
    "\n",
    "total_wtr_auth = piv_table3.loc[('Water Authority', 'functional')] + piv_table3.loc[('Water Authority','functional needs repair')] + piv_table3.loc[('Water Authority','non functional')]\n",
    "percent_functional_wtr_auth = (piv_table3.loc[('Water Authority', 'functional')] / total_wtr_auth) * 100\n",
    "\n",
    "total_wtr_brd = piv_table3.loc[('Water Board', 'functional')] + piv_table3.loc[('Water Board', 'functional needs repair')] + piv_table3.loc[('Water Board', 'non functional')]\n",
    "percent_functional_wtr_brd = (piv_table3.loc[('Water Authority', 'functional')] / total_wtr_brd) * 100\n",
    "\n",
    "total_other = piv_table3.loc[('other', 'functional')] + piv_table3.loc[('other', 'functional needs repair')] + piv_table3.loc[('other', 'non functional')]\n",
    "percent_functional_other = (piv_table3.loc[('other', 'functional')] / total_other) * 100\n",
    "\n",
    "print('Percent functional other: ', round(percent_functional_other,3))\n",
    "print('Percent functional vwc: ', round(percent_functional_vwc,3))\n",
    "print('Percent functional water authority: ', round(percent_functional_wtr_auth,3))\n",
    "print('Percent functional water board: ', round(percent_functional_wtr_brd,3))\n",
    "print('Percent functional wua: ', round(percent_functional_wua,3))\n",
    "print('Percent functional wug: ', round(percent_functional_wug,3))"
   ]
  },
  {
   "cell_type": "code",
   "execution_count": 19,
   "metadata": {},
   "outputs": [
    {
     "name": "stdout",
     "output_type": "stream",
     "text": [
      "management        management_group\n",
      "company           commercial            685\n",
      "other             other                 844\n",
      "other - school    other                  99\n",
      "parastatal        parastatal           1768\n",
      "private operator  commercial           1971\n",
      "trust             commercial             78\n",
      "unknown           unknown               561\n",
      "vwc               user-group          40507\n",
      "water authority   commercial            904\n",
      "water board       user-group           2933\n",
      "wua               user-group           2535\n",
      "wug               user-group           6515\n",
      "dtype: int64\n"
     ]
    }
   ],
   "source": [
    "waste_features=['wpt_name','num_private','subvillage','region_code','recorded_by']\n",
    "#since region and region_code are representing the same thing\n",
    "df.drop(waste_features,axis=1,inplace=True)\n",
    "print(df.groupby(['management', 'management_group']).size() )\n",
    "df.drop('management_group',axis=1,inplace=True)"
   ]
  },
  {
   "cell_type": "code",
   "execution_count": 20,
   "metadata": {},
   "outputs": [
    {
     "name": "stdout",
     "output_type": "stream",
     "text": [
      "extraction_type_group  extraction_type_class  extraction_type          \n",
      "afridev                handpump               afridev                       1770\n",
      "gravity                gravity                gravity                      26780\n",
      "india mark ii          handpump               india mark ii                 2400\n",
      "india mark iii         handpump               india mark iii                  98\n",
      "mono                   motorpump              mono                          2865\n",
      "nira/tanira            handpump               nira/tanira                   8154\n",
      "other                  other                  other                         6430\n",
      "other handpump         handpump               other - mkulima/shinyanga        2\n",
      "                                              other - play pump               85\n",
      "                                              other - swn 81                 229\n",
      "                                              walimi                          48\n",
      "other motorpump        motorpump              cemo                            90\n",
      "                                              climax                          32\n",
      "rope pump              rope pump              other - rope pump              451\n",
      "submersible            submersible            ksb                           1415\n",
      "                                              submersible                   4764\n",
      "swn 80                 handpump               swn 80                        3670\n",
      "wind-powered           wind-powered           windmill                       117\n",
      "dtype: int64\n"
     ]
    }
   ],
   "source": [
    "print(df.groupby(['extraction_type_group','extraction_type_class','extraction_type']).size()   )   \n",
    "df.drop('extraction_type_group',axis=1,inplace=True)"
   ]
  },
  {
   "cell_type": "code",
   "execution_count": 21,
   "metadata": {},
   "outputs": [],
   "source": [
    "df.drop('extraction_type_class',axis=1,inplace=True)"
   ]
  },
  {
   "cell_type": "code",
   "execution_count": 22,
   "metadata": {},
   "outputs": [
    {
     "data": {
      "text/plain": [
       "scheme_management  scheme_name         \n",
       "VWC                14 Kambarage             7\n",
       "                   A                        2\n",
       "                   ADRA                     8\n",
       "                   AIC                      1\n",
       "                   African Barrick Gold     1\n",
       "                                           ..\n",
       "other              shallow well             2\n",
       "                   upper Ruv                2\n",
       "                   upper Ruvu              41\n",
       "                   upper ruvu               1\n",
       "                   v                        1\n",
       "Length: 3152, dtype: int64"
      ]
     },
     "execution_count": 22,
     "metadata": {},
     "output_type": "execute_result"
    }
   ],
   "source": [
    "df.groupby(['scheme_management', 'scheme_name']).size()"
   ]
  },
  {
   "cell_type": "code",
   "execution_count": 23,
   "metadata": {},
   "outputs": [],
   "source": [
    "df.drop('scheme_name',axis=1,inplace=True)\n"
   ]
  },
  {
   "cell_type": "code",
   "execution_count": 24,
   "metadata": {},
   "outputs": [
    {
     "data": {
      "text/plain": [
       "payment                payment_type\n",
       "never pay              never pay       25348\n",
       "other                  other            1054\n",
       "pay annually           annually         3642\n",
       "pay monthly            monthly          8300\n",
       "pay per bucket         per bucket       8985\n",
       "pay when scheme fails  on failure       3914\n",
       "unknown                unknown          8157\n",
       "dtype: int64"
      ]
     },
     "execution_count": 24,
     "metadata": {},
     "output_type": "execute_result"
    }
   ],
   "source": [
    "df.groupby(['payment', 'payment_type']).size()"
   ]
  },
  {
   "cell_type": "code",
   "execution_count": 25,
   "metadata": {},
   "outputs": [],
   "source": [
    "df.drop('payment',axis=1,inplace=True)"
   ]
  },
  {
   "cell_type": "code",
   "execution_count": 26,
   "metadata": {},
   "outputs": [
    {
     "data": {
      "text/plain": [
       "water_quality       quality_group\n",
       "coloured            colored            490\n",
       "fluoride            fluoride           200\n",
       "fluoride abandoned  fluoride            17\n",
       "milky               milky              804\n",
       "salty               salty             4856\n",
       "salty abandoned     salty              339\n",
       "soft                good             50818\n",
       "unknown             unknown           1876\n",
       "dtype: int64"
      ]
     },
     "execution_count": 26,
     "metadata": {},
     "output_type": "execute_result"
    }
   ],
   "source": [
    "df.groupby(['water_quality', 'quality_group']).size()"
   ]
  },
  {
   "cell_type": "code",
   "execution_count": 27,
   "metadata": {},
   "outputs": [],
   "source": [
    "df.drop('quality_group',axis=1,inplace=True)"
   ]
  },
  {
   "cell_type": "code",
   "execution_count": 28,
   "metadata": {},
   "outputs": [
    {
     "data": {
      "text/plain": [
       "quantity      quantity_group\n",
       "dry           dry                6246\n",
       "enough        enough            33186\n",
       "insufficient  insufficient      15129\n",
       "seasonal      seasonal           4050\n",
       "unknown       unknown             789\n",
       "dtype: int64"
      ]
     },
     "execution_count": 28,
     "metadata": {},
     "output_type": "execute_result"
    }
   ],
   "source": [
    "df.groupby(['quantity', 'quantity_group']).size()"
   ]
  },
  {
   "cell_type": "code",
   "execution_count": 29,
   "metadata": {},
   "outputs": [],
   "source": [
    "df.drop('quantity_group',axis=1,inplace=True)"
   ]
  },
  {
   "cell_type": "code",
   "execution_count": 30,
   "metadata": {},
   "outputs": [
    {
     "data": {
      "text/plain": [
       "source                source_type           source_class\n",
       "dam                   dam                   surface           656\n",
       "hand dtw              borehole              groundwater       874\n",
       "lake                  river/lake            surface           765\n",
       "machine dbh           borehole              groundwater     11075\n",
       "other                 other                 unknown           212\n",
       "rainwater harvesting  rainwater harvesting  surface          2295\n",
       "river                 river/lake            surface          9612\n",
       "shallow well          shallow well          groundwater     16824\n",
       "spring                spring                groundwater     17021\n",
       "unknown               other                 unknown            66\n",
       "dtype: int64"
      ]
     },
     "execution_count": 30,
     "metadata": {},
     "output_type": "execute_result"
    }
   ],
   "source": [
    "df.groupby(['source', 'source_type', 'source_class']).size()"
   ]
  },
  {
   "cell_type": "code",
   "execution_count": 31,
   "metadata": {},
   "outputs": [],
   "source": [
    "df.drop('source_type',axis=1,inplace=True)"
   ]
  },
  {
   "cell_type": "code",
   "execution_count": 32,
   "metadata": {},
   "outputs": [],
   "source": [
    "df.drop('source_class',axis=1,inplace=True)\n"
   ]
  },
  {
   "cell_type": "code",
   "execution_count": 33,
   "metadata": {},
   "outputs": [
    {
     "data": {
      "text/plain": [
       "waterpoint_type              waterpoint_type_group\n",
       "cattle trough                cattle trough              116\n",
       "communal standpipe           communal standpipe       28522\n",
       "communal standpipe multiple  communal standpipe        6103\n",
       "dam                          dam                          7\n",
       "hand pump                    hand pump                17488\n",
       "improved spring              improved spring            784\n",
       "other                        other                     6380\n",
       "dtype: int64"
      ]
     },
     "execution_count": 33,
     "metadata": {},
     "output_type": "execute_result"
    }
   ],
   "source": [
    "df.groupby(['waterpoint_type', 'waterpoint_type_group']).size()"
   ]
  },
  {
   "cell_type": "code",
   "execution_count": 34,
   "metadata": {},
   "outputs": [],
   "source": [
    "df.drop('waterpoint_type_group',axis=1,inplace=True)"
   ]
  },
  {
   "cell_type": "code",
   "execution_count": 35,
   "metadata": {},
   "outputs": [
    {
     "name": "stdout",
     "output_type": "stream",
     "text": [
      "lga           ward     status_group           \n",
      "Arusha Rural  Bangata  functional                 21\n",
      "                       functional needs repair     2\n",
      "                       non functional             10\n",
      "              Bwawani  functional                 12\n",
      "                       non functional             25\n",
      "                                                  ..\n",
      "Uyui          Ufuluma  non functional             10\n",
      "              Upuge    functional                  7\n",
      "                       non functional             11\n",
      "              Usagali  functional                  8\n",
      "                       non functional             17\n",
      "Length: 5070, dtype: int64\n"
     ]
    }
   ],
   "source": [
    "print(df.groupby(['lga', 'ward','status_group']).size())"
   ]
  },
  {
   "cell_type": "code",
   "execution_count": 36,
   "metadata": {},
   "outputs": [],
   "source": [
    "df.drop('ward',axis=1,inplace=True)"
   ]
  },
  {
   "cell_type": "code",
   "execution_count": 37,
   "metadata": {},
   "outputs": [
    {
     "data": {
      "text/plain": [
       "installer  funder      status_group           \n",
       "Commu      Danida      functional                     7\n",
       "                       non functional                 1\n",
       "           Gov         functional                   217\n",
       "                       non functional                44\n",
       "           World_bank  functional                     7\n",
       "                                                  ...  \n",
       "other      World_bank  functional needs repair       84\n",
       "                       non functional               592\n",
       "           other       functional                 17948\n",
       "                       functional needs repair     1910\n",
       "                       non functional             10821\n",
       "Length: 77, dtype: int64"
      ]
     },
     "execution_count": 37,
     "metadata": {},
     "output_type": "execute_result"
    }
   ],
   "source": [
    "df.groupby(['installer', 'funder','status_group']).size()"
   ]
  },
  {
   "cell_type": "code",
   "execution_count": null,
   "metadata": {},
   "outputs": [],
   "source": []
  },
  {
   "cell_type": "code",
   "execution_count": 38,
   "metadata": {},
   "outputs": [],
   "source": [
    "df.drop('public_meeting', axis=1, inplace=True)\n",
    "df.drop('permit', axis=1, inplace=True)"
   ]
  },
  {
   "cell_type": "code",
   "execution_count": 39,
   "metadata": {},
   "outputs": [],
   "source": [
    "df.waterpoint_type = df.waterpoint_type.str.lower()\n",
    "df.funder = df.funder.str.lower()\n",
    "df.basin = df.basin.str.lower()\n",
    "df.region = df.region.str.lower()\n",
    "df.source = df.source.str.lower()\n",
    "df.lga = df.lga.str.lower()\n",
    "df.management = df.management.str.lower()\n",
    "df.quantity = df.quantity.str.lower()\n",
    "df.water_quality = df.water_quality.str.lower()\n",
    "df.payment_type=df.payment_type.str.lower()\n",
    "df.extraction_type=df.extraction_type.str.lower()"
   ]
  },
  {
   "cell_type": "code",
   "execution_count": 40,
   "metadata": {},
   "outputs": [],
   "source": [
    "df.drop('date_recorded', axis=1, inplace=True)\n",
    "df.drop('construction_year', axis=1, inplace=True)"
   ]
  },
  {
   "cell_type": "code",
   "execution_count": 41,
   "metadata": {},
   "outputs": [],
   "source": [
    "used_cols = [c for c in df.columns if c not in['id', 'gps_height','num_private',\n",
    "                                               'waterpoint_type_group','status_group_new','status_group','permit',\n",
    "                                               'payment type','population','public_meeting','source_class','ward']]"
   ]
  },
  {
   "cell_type": "code",
   "execution_count": 42,
   "metadata": {
    "scrolled": true
   },
   "outputs": [
    {
     "name": "stdout",
     "output_type": "stream",
     "text": [
      "<class 'pandas.core.frame.DataFrame'>\n",
      "Int64Index: 59400 entries, 0 to 59399\n",
      "Data columns (total 17 columns):\n",
      " #   Column             Non-Null Count  Dtype  \n",
      "---  ------             --------------  -----  \n",
      " 0   amount_tsh         59400 non-null  float64\n",
      " 1   funder             59400 non-null  object \n",
      " 2   installer          59400 non-null  object \n",
      " 3   longitude          59400 non-null  float64\n",
      " 4   latitude           59400 non-null  float64\n",
      " 5   basin              59400 non-null  object \n",
      " 6   region             59400 non-null  object \n",
      " 7   district_code      59400 non-null  int64  \n",
      " 8   lga                59400 non-null  object \n",
      " 9   scheme_management  59400 non-null  object \n",
      " 10  extraction_type    59400 non-null  object \n",
      " 11  management         59400 non-null  object \n",
      " 12  payment_type       59400 non-null  object \n",
      " 13  water_quality      59400 non-null  object \n",
      " 14  quantity           59400 non-null  object \n",
      " 15  source             59400 non-null  object \n",
      " 16  waterpoint_type    59400 non-null  object \n",
      "dtypes: float64(3), int64(1), object(13)\n",
      "memory usage: 8.2+ MB\n"
     ]
    }
   ],
   "source": [
    "df[used_cols].info()"
   ]
  },
  {
   "cell_type": "code",
   "execution_count": null,
   "metadata": {},
   "outputs": [],
   "source": []
  },
  {
   "cell_type": "markdown",
   "metadata": {},
   "source": [
    "## Modeling\n",
    "\n",
    "Describe and justify the process for analyzing or modeling the data.\n",
    "\n",
    "Questions to consider:\n",
    "\n",
    "- How will you analyze the data to arrive at an initial approach?\n",
    "- How will you iterate on your initial approach to make it better?\n",
    "- What model type is most appropriate, given the data and the business problem?"
   ]
  },
  {
   "cell_type": "code",
   "execution_count": 43,
   "metadata": {},
   "outputs": [],
   "source": [
    "import numpy as np\n",
    "from sklearn.model_selection import train_test_split\n",
    "from sklearn.svm import SVC\n",
    "from sklearn.tree import DecisionTreeClassifier\n",
    "from sklearn.ensemble import RandomForestClassifier\n",
    "from sklearn.model_selection import cross_val_score\n",
    "from sklearn.linear_model import LogisticRegression\n",
    "from xgboost import XGBClassifier\n",
    "from sklearn.neighbors import KNeighborsClassifier\n",
    "from sklearn.preprocessing import KBinsDiscretizer, FunctionTransformer,RobustScaler\n",
    "from sklearn.preprocessing import OneHotEncoder\n",
    "from sklearn.pipeline import make_pipeline, Pipeline\n",
    "from sklearn.metrics import accuracy_score, balanced_accuracy_score\n",
    "from sklearn.metrics import confusion_matrix\n",
    "from sklearn.metrics import classification_report\n",
    "from sklearn.metrics import roc_auc_score\n",
    "from sklearn.preprocessing import MinMaxScaler\n",
    "from sklearn.preprocessing import StandardScaler\n",
    "from sklearn.compose import ColumnTransformer\n",
    "from sklearn.impute import SimpleImputer\n",
    "from sklearn.model_selection import GridSearchCV, cross_validate\n",
    "from sklearn.metrics import accuracy_score, precision_score, recall_score, f1_score"
   ]
  },
  {
   "cell_type": "code",
   "execution_count": null,
   "metadata": {},
   "outputs": [],
   "source": []
  },
  {
   "cell_type": "code",
   "execution_count": null,
   "metadata": {},
   "outputs": [],
   "source": []
  },
  {
   "cell_type": "code",
   "execution_count": 44,
   "metadata": {},
   "outputs": [],
   "source": [
    "X= df[used_cols]\n",
    "y= df['status_group_new']\n",
    "\n",
    "X_train, X_test, y_train, y_test = train_test_split(X, y, test_size=0.25, random_state=10)\n"
   ]
  },
  {
   "cell_type": "code",
   "execution_count": 45,
   "metadata": {},
   "outputs": [],
   "source": [
    "num_cols = []\n",
    "cat_cols = []\n",
    "for c in used_cols:\n",
    "    if X[c].dtype in ['float64', 'int64']:\n",
    "        num_cols.append(c)\n",
    "    else:\n",
    "        cat_cols.append(c)"
   ]
  },
  {
   "cell_type": "code",
   "execution_count": 46,
   "metadata": {},
   "outputs": [],
   "source": [
    "num_transformer = Pipeline(steps=[\n",
    "    ('num_imputer', SimpleImputer(strategy='median'))\n",
    "    ])\n",
    "\n",
    "ohe_transformer = Pipeline(steps=[\n",
    "    ('ohe_imputer', SimpleImputer(strategy='constant', fill_value='Unknown')),\n",
    "    ('oh_encoder', OneHotEncoder(handle_unknown='ignore'))])\n",
    "\n",
    "\n"
   ]
  },
  {
   "cell_type": "code",
   "execution_count": 47,
   "metadata": {},
   "outputs": [],
   "source": [
    "preprocessor = ColumnTransformer(\n",
    "    transformers=[\n",
    "        ('num', num_transformer, num_cols),\n",
    "        ('ohe', ohe_transformer, cat_cols)])"
   ]
  },
  {
   "cell_type": "code",
   "execution_count": 48,
   "metadata": {},
   "outputs": [
    {
     "data": {
      "text/plain": [
       "ColumnTransformer(transformers=[('num',\n",
       "                                 Pipeline(steps=[('num_imputer',\n",
       "                                                  SimpleImputer(strategy='median'))]),\n",
       "                                 ['amount_tsh', 'longitude', 'latitude',\n",
       "                                  'district_code']),\n",
       "                                ('ohe',\n",
       "                                 Pipeline(steps=[('ohe_imputer',\n",
       "                                                  SimpleImputer(fill_value='Unknown',\n",
       "                                                                strategy='constant')),\n",
       "                                                 ('oh_encoder',\n",
       "                                                  OneHotEncoder(handle_unknown='ignore'))]),\n",
       "                                 ['funder', 'installer', 'basin', 'region',\n",
       "                                  'lga', 'scheme_management', 'extraction_type',\n",
       "                                  'management', 'payment_type', 'water_quality',\n",
       "                                  'quantity', 'source', 'waterpoint_type'])])"
      ]
     },
     "execution_count": 48,
     "metadata": {},
     "output_type": "execute_result"
    }
   ],
   "source": [
    "preprocessor.fit(X_train)"
   ]
  },
  {
   "cell_type": "code",
   "execution_count": 49,
   "metadata": {},
   "outputs": [],
   "source": [
    "clf_rf = Pipeline(steps=[\n",
    "    ('preprocessor', preprocessor),\n",
    "    ('classifier', RandomForestClassifier(class_weight='balanced'))])\n"
   ]
  },
  {
   "cell_type": "code",
   "execution_count": 50,
   "metadata": {},
   "outputs": [
    {
     "data": {
      "text/plain": [
       "Pipeline(steps=[('preprocessor',\n",
       "                 ColumnTransformer(transformers=[('num',\n",
       "                                                  Pipeline(steps=[('num_imputer',\n",
       "                                                                   SimpleImputer(strategy='median'))]),\n",
       "                                                  ['amount_tsh', 'longitude',\n",
       "                                                   'latitude',\n",
       "                                                   'district_code']),\n",
       "                                                 ('ohe',\n",
       "                                                  Pipeline(steps=[('ohe_imputer',\n",
       "                                                                   SimpleImputer(fill_value='Unknown',\n",
       "                                                                                 strategy='constant')),\n",
       "                                                                  ('oh_encoder',\n",
       "                                                                   OneHotEncoder(handle_unknown='ignore'))]),\n",
       "                                                  ['funder', 'installer',\n",
       "                                                   'basin', 'region', 'lga',\n",
       "                                                   'scheme_management',\n",
       "                                                   'extraction_type',\n",
       "                                                   'management', 'payment_type',\n",
       "                                                   'water_quality', 'quantity',\n",
       "                                                   'source',\n",
       "                                                   'waterpoint_type'])])),\n",
       "                ('classifier',\n",
       "                 RandomForestClassifier(class_weight='balanced'))])"
      ]
     },
     "execution_count": 50,
     "metadata": {},
     "output_type": "execute_result"
    }
   ],
   "source": [
    "clf_rf.fit(X_train,y_train)"
   ]
  },
  {
   "cell_type": "code",
   "execution_count": 51,
   "metadata": {},
   "outputs": [
    {
     "data": {
      "text/plain": [
       "{'fit_time': array([57.62288594, 57.98536897, 57.88048172, 57.91118217, 58.6743865 ]),\n",
       " 'score_time': array([0.32656145, 0.32382369, 0.32712388, 0.32317162, 0.32118034]),\n",
       " 'test_score': array([0.80976431, 0.80650954, 0.80549944, 0.80460157, 0.80751964]),\n",
       " 'train_score': array([0.99624018, 0.9964927 , 0.99626824, 0.99654882, 0.99635241])}"
      ]
     },
     "execution_count": 51,
     "metadata": {},
     "output_type": "execute_result"
    }
   ],
   "source": [
    "cross_validate(clf_rf, X_train, y_train, return_train_score=True)\n"
   ]
  },
  {
   "cell_type": "code",
   "execution_count": 52,
   "metadata": {},
   "outputs": [
    {
     "name": "stdout",
     "output_type": "stream",
     "text": [
      "Confusion matrix, without normalization\n",
      "[[5182 1515]\n",
      " [1308 6845]]\n",
      "Normalized confusion matrix\n",
      "[[0.77 0.23]\n",
      " [0.16 0.84]]\n"
     ]
    },
    {
     "data": {
      "image/png": "[encoded data removed]",
      "text/plain": [
       "<Figure size 432x432 with 2 Axes>"
      ]
     },
     "metadata": {
      "needs_background": "light"
     },
     "output_type": "display_data"
    },
    {
     "data": {
      "image/png": "[encoded data removed]",
      "text/plain": [
       "<Figure size 432x432 with 2 Axes>"
      ]
     },
     "metadata": {
      "needs_background": "light"
     },
     "output_type": "display_data"
    },
    {
     "name": "stdout",
     "output_type": "stream",
     "text": [
      "Test Score 0.8098989898989899\n"
     ]
    }
   ],
   "source": [
    "plt.rcParams['figure.figsize'] = (6.0, 6.0)\n",
    "\n",
    "from sklearn.metrics import confusion_matrix\n",
    "labels=['functional','non functional']\n",
    "def plot_confusion_matrix(cm, title='Confusion matrix', cmap=plt.cm.Blues):\n",
    "    plt.imshow(cm, interpolation='nearest', cmap=cmap)\n",
    "    plt.title(title)\n",
    "    plt.colorbar(shrink=0.7)\n",
    "    tick_marks = np.arange(len(labels))\n",
    "    plt.xticks(tick_marks, labels, rotation=45, ha='right', fontsize=12)\n",
    "    plt.yticks(tick_marks, labels , fontsize=12)\n",
    "    plt.tight_layout()\n",
    "    plt.ylabel('True label', fontsize=12)\n",
    "    plt.xlabel('Predicted label', fontsize=12)\n",
    "\n",
    "\n",
    "# Compute confusion matrix\n",
    "cm = confusion_matrix(y_test, clf_rf.predict(X_test))\n",
    "np.set_printoptions(precision=2)\n",
    "print('Confusion matrix, without normalization')\n",
    "print(cm)\n",
    "plt.figure()\n",
    "plot_confusion_matrix(cm)\n",
    "\n",
    "# Normalize the confusion matrix by row (i.e by the number of samples\n",
    "# in each class)\n",
    "cm_normalized = cm.astype('float') / cm.sum(axis=1)[:, np.newaxis]\n",
    "print('Normalized confusion matrix')\n",
    "print(cm_normalized)\n",
    "plt.figure()\n",
    "plot_confusion_matrix(cm_normalized, title='Normalized confusion matrix')\n",
    "\n",
    "plt.show()\n",
    "print ('Test Score', cm.diagonal().sum()/float(cm.sum()))\n"
   ]
  },
  {
   "cell_type": "code",
   "execution_count": 53,
   "metadata": {},
   "outputs": [],
   "source": [
    "grid_p = {\n",
    "    \"classifier__max_depth\": [1, 5, 10],\n",
    "    \"classifier__min_samples_split\": [2, 10, 100]\n",
    "}\n"
   ]
  },
  {
   "cell_type": "code",
   "execution_count": 54,
   "metadata": {},
   "outputs": [],
   "source": [
    "grid = GridSearchCV(clf_rf, grid_p, scoring='f1')"
   ]
  },
  {
   "cell_type": "code",
   "execution_count": 55,
   "metadata": {},
   "outputs": [],
   "source": [
    "output = grid.fit(X_train, y_train)"
   ]
  },
  {
   "cell_type": "code",
   "execution_count": 56,
   "metadata": {},
   "outputs": [
    {
     "data": {
      "text/plain": [
       "{'classifier__max_depth': 10, 'classifier__min_samples_split': 2}"
      ]
     },
     "execution_count": 56,
     "metadata": {},
     "output_type": "execute_result"
    }
   ],
   "source": [
    "output.best_params_"
   ]
  },
  {
   "cell_type": "code",
   "execution_count": 57,
   "metadata": {},
   "outputs": [],
   "source": [
    "def evaluate(estimator, X_tr, X_te, y_tr, y_te, roc_auc='skip'):\n",
    "    '''\n",
    "    Evaluation function to show a few scores for both the train and test set\n",
    "    Also shows a confusion matrix for the test set\n",
    "    \n",
    "    roc_auc allows you to set how to calculate the roc_auc score: \n",
    "    'dec' for decision_function or 'proba' for predict_proba \n",
    "    If roc_auc == 'skip', then it ignores calculating the roc_auc_score\n",
    "    \n",
    "    Inputs:\n",
    "        estimator: a fit sklearn-style model or pipeline\n",
    "        X_tr: array or pandas dataframe\n",
    "            training input variables\n",
    "        X_te: array or pandas dataframe\n",
    "            testing input variables\n",
    "        y_tr: array or pandas series\n",
    "            training output variable\n",
    "        y_te: array or pandas series\n",
    "            testing output variable\n",
    "        roc_auc: str\n",
    "            'skip': default, skips calculating roc_auc\n",
    "            'dec': use decision_function to calculate roc_auc\n",
    "            'proba': use predict_proba to calculate roc_auc\n",
    "            \n",
    "    '''\n",
    "    # Grab predictions\n",
    "    tr_preds = estimator.predict(X_tr)\n",
    "    te_preds = estimator.predict(X_te)\n",
    "    \n",
    "    # output needed for roc_auc_score\n",
    "    if roc_auc == 'skip': # skips calculating the roc_auc_score\n",
    "        train_out = False\n",
    "        test_out = False\n",
    "    elif roc_auc == 'dec': \n",
    "        train_out = estimator.decision_function(X_train)\n",
    "        test_out = estimator.decision_function(X_test)\n",
    "    elif roc_auc == 'proba': \n",
    "        train_out = estimator.predict_proba(X_train)[:, 1] # proba for the 1 class\n",
    "        test_out = estimator.predict_proba(X_test)[:, 1]\n",
    "    else:\n",
    "        raise Exception(\"The value for roc_auc should be 'skip', 'dec' or 'proba'\")    \n",
    "    \n",
    "    print(\"Training Scores:\")\n",
    "    print(f\"Train Accuracy: {accuracy_score(y_tr, tr_preds)}\")\n",
    "    print(f\"Train Precision: {precision_score(y_tr, tr_preds)}\")\n",
    "    print(f\"Train Recall: {recall_score(y_tr, tr_preds)}\")\n",
    "    print(f\"Train F1-Score: {f1_score(y_tr, tr_preds)}\")\n",
    "    if type(train_out) == np.ndarray: # checking for roc_auc\n",
    "        print(f\"ROC-AUC: {roc_auc_score(y_train, train_out)}\")\n",
    "        \n",
    "    print(\"*\" * 10)\n",
    "    print(\"Testing Scores:\")\n",
    "    print(f\"Test Accuracy: {accuracy_score(y_te, te_preds)}\")\n",
    "    print(f\"Test Precision: {precision_score(y_te, te_preds)}\")\n",
    "    print(f\"Test Recall: {recall_score(y_te, te_preds)}\")\n",
    "    print(f\"Test F1-Score: {f1_score(y_te, te_preds)}\")\n",
    "    if type(test_out) == np.ndarray: # checking for roc_auc\n",
    "        print(f\"ROC-AUC: {roc_auc_score(y_test, test_out)}\")    \n",
    "    \n",
    "   "
   ]
  },
  {
   "cell_type": "code",
   "execution_count": 58,
   "metadata": {},
   "outputs": [
    {
     "name": "stdout",
     "output_type": "stream",
     "text": [
      "Training Scores:\n",
      "Train Accuracy: 0.7891133557800224\n",
      "Train Precision: 0.7608610845125368\n",
      "Train Recall: 0.8899858956276445\n",
      "Train F1-Score: 0.8203735923369596\n",
      "ROC-AUC: 0.8666497860984852\n",
      "**********\n",
      "Testing Scores:\n",
      "Test Accuracy: 0.7777777777777778\n",
      "Test Precision: 0.7592137592137592\n",
      "Test Recall: 0.8717036673617073\n",
      "Test F1-Score: 0.8115793079821856\n",
      "ROC-AUC: 0.8508532894329941\n"
     ]
    }
   ],
   "source": [
    "evaluate(output.best_estimator_, X_train, X_test, y_train, y_test, roc_auc='proba')"
   ]
  },
  {
   "cell_type": "code",
   "execution_count": 62,
   "metadata": {},
   "outputs": [
    {
     "data": {
      "text/plain": [
       "ColumnTransformer(transformers=[('num',\n",
       "                                 Pipeline(steps=[('num_imputer',\n",
       "                                                  SimpleImputer(strategy='median'))]),\n",
       "                                 ['amount_tsh', 'longitude', 'latitude',\n",
       "                                  'district_code']),\n",
       "                                ('ohe',\n",
       "                                 Pipeline(steps=[('ohe_imputer',\n",
       "                                                  SimpleImputer(fill_value='Unknown',\n",
       "                                                                strategy='constant')),\n",
       "                                                 ('oh_encoder',\n",
       "                                                  OneHotEncoder(handle_unknown='ignore'))]),\n",
       "                                 ['funder', 'installer', 'basin', 'region',\n",
       "                                  'lga', 'scheme_management', 'extraction_type',\n",
       "                                  'management', 'payment_type', 'water_quality',\n",
       "                                  'quantity', 'source', 'waterpoint_type'])])"
      ]
     },
     "execution_count": 62,
     "metadata": {},
     "output_type": "execute_result"
    }
   ],
   "source": [
    "clf_rf['preprocessor']"
   ]
  },
  {
   "cell_type": "code",
   "execution_count": 65,
   "metadata": {},
   "outputs": [
    {
     "data": {
      "text/plain": [
       "Pipeline(steps=[('preprocessor',\n",
       "                 ColumnTransformer(transformers=[('num',\n",
       "                                                  Pipeline(steps=[('num_imputer',\n",
       "                                                                   SimpleImputer(strategy='median'))]),\n",
       "                                                  ['amount_tsh', 'longitude',\n",
       "                                                   'latitude',\n",
       "                                                   'district_code']),\n",
       "                                                 ('ohe',\n",
       "                                                  Pipeline(steps=[('ohe_imputer',\n",
       "                                                                   SimpleImputer(fill_value='Unknown',\n",
       "                                                                                 strategy='constant')),\n",
       "                                                                  ('oh_encoder',\n",
       "                                                                   OneHotEncoder(handle_unknown='ignore'))]),\n",
       "                                                  ['funder', 'installer',\n",
       "                                                   'basin', 'region', 'lga',\n",
       "                                                   'scheme_management',\n",
       "                                                   'extraction_type',\n",
       "                                                   'management', 'payment_type',\n",
       "                                                   'water_quality', 'quantity',\n",
       "                                                   'source',\n",
       "                                                   'waterpoint_type'])])),\n",
       "                ('classifier',\n",
       "                 RandomForestClassifier(class_weight='balanced', max_depth=5,\n",
       "                                        max_samples=0.5))])"
      ]
     },
     "execution_count": 65,
     "metadata": {},
     "output_type": "execute_result"
    }
   ],
   "source": [
    "clf_final = Pipeline(steps=[\n",
    "    ('preprocessor', preprocessor),\n",
    "    ('classifier', RandomForestClassifier(class_weight='balanced',\n",
    "                                          max_depth= 5, \n",
    "                                          max_samples= 0.5))])\n",
    "\n",
    "clf_final.fit(X_train, y_train)"
   ]
  },
  {
   "cell_type": "code",
   "execution_count": 66,
   "metadata": {},
   "outputs": [
    {
     "data": {
      "text/plain": [
       "(44550, 244)"
      ]
     },
     "execution_count": 66,
     "metadata": {},
     "output_type": "execute_result"
    }
   ],
   "source": [
    "clf_final['preprocessor'].fit_transform(X_train).shape"
   ]
  },
  {
   "cell_type": "code",
   "execution_count": 69,
   "metadata": {},
   "outputs": [
    {
     "data": {
      "text/plain": [
       "ColumnTransformer(transformers=[('num',\n",
       "                                 Pipeline(steps=[('num_imputer',\n",
       "                                                  SimpleImputer(strategy='median'))]),\n",
       "                                 ['amount_tsh', 'longitude', 'latitude',\n",
       "                                  'district_code']),\n",
       "                                ('ohe',\n",
       "                                 Pipeline(steps=[('ohe_imputer',\n",
       "                                                  SimpleImputer(fill_value='Unknown',\n",
       "                                                                strategy='constant')),\n",
       "                                                 ('oh_encoder',\n",
       "                                                  OneHotEncoder(handle_unknown='ignore'))]),\n",
       "                                 ['funder', 'installer', 'basin', 'region',\n",
       "                                  'lga', 'scheme_management', 'extraction_type',\n",
       "                                  'management', 'payment_type', 'water_quality',\n",
       "                                  'quantity', 'source', 'waterpoint_type'])])"
      ]
     },
     "execution_count": 69,
     "metadata": {},
     "output_type": "execute_result"
    }
   ],
   "source": [
    "clf_final['preprocessor']\n"
   ]
  },
  {
   "cell_type": "code",
   "execution_count": 75,
   "metadata": {},
   "outputs": [
    {
     "data": {
      "text/plain": [
       "['amount_tsh', 'longitude', 'latitude', 'district_code']"
      ]
     },
     "execution_count": 75,
     "metadata": {},
     "output_type": "execute_result"
    }
   ],
   "source": [
    "clf_final['preprocessor'].transformers_[0][2]"
   ]
  },
  {
   "cell_type": "markdown",
   "metadata": {},
   "source": [
    "## Evaluation\n",
    "\n",
    "The evaluation of each model should accompany the creation of each model, and you should be sure to evaluate your models consistently.\n",
    "\n",
    "Evaluate how well your work solves the stated business problem. \n",
    "\n",
    "Questions to consider:\n",
    "\n",
    "- How do you interpret the results?\n",
    "- How well does your model fit your data? How much better is this than your baseline model? Is it over or under fit?\n",
    "- How well does your model/data fit any relevant modeling assumptions?\n",
    "\n",
    "For the final model, you might also consider:\n",
    "\n",
    "- How confident are you that your results would generalize beyond the data you have?\n",
    "- How confident are you that this model would benefit the business if put into use?\n",
    "- What does this final model tell you about the relationship between your inputs and outputs?"
   ]
  },
  {
   "cell_type": "code",
   "execution_count": 74,
   "metadata": {},
   "outputs": [
    {
     "data": {
      "text/plain": [
       "['amount_tsh', 'longitude', 'latitude', 'district_code']"
      ]
     },
     "execution_count": 74,
     "metadata": {},
     "output_type": "execute_result"
    }
   ],
   "source": [
    "num_cols"
   ]
  },
  {
   "cell_type": "code",
   "execution_count": 78,
   "metadata": {},
   "outputs": [
    {
     "data": {
      "text/plain": [
       "array(['funder_danida', 'funder_gov', 'funder_hesawa', 'funder_other',\n",
       "       'funder_rwssp', 'funder_world_bank', 'installer_Commu',\n",
       "       'installer_DWE', 'installer_Danida', 'installer_Gov',\n",
       "       'installer_RWE', 'installer_other', 'basin_internal',\n",
       "       'basin_lake nyasa', 'basin_lake rukwa', 'basin_lake tanganyika',\n",
       "       'basin_lake victoria', 'basin_pangani', 'basin_rufiji',\n",
       "       'basin_ruvuma / southern coast', 'basin_wami / ruvu',\n",
       "       'region_arusha', 'region_dar es salaam', 'region_dodoma',\n",
       "       'region_iringa', 'region_kagera', 'region_kigoma',\n",
       "       'region_kilimanjaro', 'region_lindi', 'region_manyara',\n",
       "       'region_mara', 'region_mbeya', 'region_morogoro', 'region_mtwara',\n",
       "       'region_mwanza', 'region_pwani', 'region_rukwa', 'region_ruvuma',\n",
       "       'region_shinyanga', 'region_singida', 'region_tabora',\n",
       "       'region_tanga', 'lga_arusha rural', 'lga_arusha urban',\n",
       "       'lga_babati', 'lga_bagamoyo', 'lga_bahi', 'lga_bariadi',\n",
       "       'lga_biharamulo', 'lga_bukoba rural', 'lga_bukoba urban',\n",
       "       'lga_bukombe', 'lga_bunda', 'lga_chamwino', 'lga_chato',\n",
       "       'lga_chunya', 'lga_dodoma urban', 'lga_geita', 'lga_hai',\n",
       "       'lga_hanang', 'lga_handeni', 'lga_igunga', 'lga_ilala',\n",
       "       'lga_ileje', 'lga_ilemela', 'lga_iramba', 'lga_iringa rural',\n",
       "       'lga_kahama', 'lga_karagwe', 'lga_karatu', 'lga_kasulu',\n",
       "       'lga_kibaha', 'lga_kibondo', 'lga_kigoma rural',\n",
       "       'lga_kigoma urban', 'lga_kilindi', 'lga_kilolo', 'lga_kilombero',\n",
       "       'lga_kilosa', 'lga_kilwa', 'lga_kinondoni', 'lga_kisarawe',\n",
       "       'lga_kishapu', 'lga_kiteto', 'lga_kondoa', 'lga_kongwa',\n",
       "       'lga_korogwe', 'lga_kwimba', 'lga_kyela', 'lga_lindi rural',\n",
       "       'lga_lindi urban', 'lga_liwale', 'lga_longido', 'lga_ludewa',\n",
       "       'lga_lushoto', 'lga_mafia', 'lga_magu', 'lga_makete',\n",
       "       'lga_manyoni', 'lga_masasi', 'lga_maswa', 'lga_mbarali',\n",
       "       'lga_mbeya rural', 'lga_mbinga', 'lga_mbozi', 'lga_mbulu',\n",
       "       'lga_meatu', 'lga_meru', 'lga_misenyi', 'lga_missungwi',\n",
       "       'lga_mkinga', 'lga_mkuranga', 'lga_monduli', 'lga_morogoro rural',\n",
       "       'lga_morogoro urban', 'lga_moshi rural', 'lga_moshi urban',\n",
       "       'lga_mpanda', 'lga_mpwapwa', 'lga_mtwara rural',\n",
       "       'lga_mtwara urban', 'lga_mufindi', 'lga_muheza', 'lga_muleba',\n",
       "       'lga_musoma rural', 'lga_mvomero', 'lga_mwanga', 'lga_nachingwea',\n",
       "       'lga_namtumbo', 'lga_nanyumbu', 'lga_newala', 'lga_ngara',\n",
       "       'lga_ngorongoro', 'lga_njombe', 'lga_nkasi', 'lga_nyamagana',\n",
       "       'lga_nzega', 'lga_pangani', 'lga_rombo', 'lga_rorya',\n",
       "       'lga_ruangwa', 'lga_rufiji', 'lga_rungwe', 'lga_same',\n",
       "       'lga_sengerema', 'lga_serengeti', 'lga_shinyanga rural',\n",
       "       'lga_shinyanga urban', 'lga_siha', 'lga_sikonge', 'lga_simanjiro',\n",
       "       'lga_singida rural', 'lga_singida urban', 'lga_songea rural',\n",
       "       'lga_songea urban', 'lga_sumbawanga rural', 'lga_sumbawanga urban',\n",
       "       'lga_tabora urban', 'lga_tandahimba', 'lga_tanga', 'lga_tarime',\n",
       "       'lga_temeke', 'lga_tunduru', 'lga_ukerewe', 'lga_ulanga',\n",
       "       'lga_urambo', 'lga_uyui', 'scheme_management_VWC',\n",
       "       'scheme_management_WUA', 'scheme_management_WUG',\n",
       "       'scheme_management_Water Authority',\n",
       "       'scheme_management_Water Board', 'scheme_management_other',\n",
       "       'extraction_type_afridev', 'extraction_type_cemo',\n",
       "       'extraction_type_climax', 'extraction_type_gravity',\n",
       "       'extraction_type_india mark ii', 'extraction_type_india mark iii',\n",
       "       'extraction_type_ksb', 'extraction_type_mono',\n",
       "       'extraction_type_nira/tanira', 'extraction_type_other',\n",
       "       'extraction_type_other - mkulima/shinyanga',\n",
       "       'extraction_type_other - play pump',\n",
       "       'extraction_type_other - rope pump',\n",
       "       'extraction_type_other - swn 81', 'extraction_type_submersible',\n",
       "       'extraction_type_swn 80', 'extraction_type_walimi',\n",
       "       'extraction_type_windmill', 'management_company',\n",
       "       'management_other', 'management_other - school',\n",
       "       'management_parastatal', 'management_private operator',\n",
       "       'management_trust', 'management_unknown', 'management_vwc',\n",
       "       'management_water authority', 'management_water board',\n",
       "       'management_wua', 'management_wug', 'payment_type_annually',\n",
       "       'payment_type_monthly', 'payment_type_never pay',\n",
       "       'payment_type_on failure', 'payment_type_other',\n",
       "       'payment_type_per bucket', 'payment_type_unknown',\n",
       "       'water_quality_coloured', 'water_quality_fluoride',\n",
       "       'water_quality_fluoride abandoned', 'water_quality_milky',\n",
       "       'water_quality_salty', 'water_quality_salty abandoned',\n",
       "       'water_quality_soft', 'water_quality_unknown', 'quantity_dry',\n",
       "       'quantity_enough', 'quantity_insufficient', 'quantity_seasonal',\n",
       "       'quantity_unknown', 'source_dam', 'source_hand dtw', 'source_lake',\n",
       "       'source_machine dbh', 'source_other',\n",
       "       'source_rainwater harvesting', 'source_river',\n",
       "       'source_shallow well', 'source_spring', 'source_unknown',\n",
       "       'waterpoint_type_cattle trough',\n",
       "       'waterpoint_type_communal standpipe',\n",
       "       'waterpoint_type_communal standpipe multiple',\n",
       "       'waterpoint_type_dam', 'waterpoint_type_hand pump',\n",
       "       'waterpoint_type_improved spring', 'waterpoint_type_other'],\n",
       "      dtype=object)"
      ]
     },
     "execution_count": 78,
     "metadata": {},
     "output_type": "execute_result"
    }
   ],
   "source": [
    "cat_cols_transformed = clf_final['preprocessor'].transformers_[1][1]['oh_encoder'].get_feature_names(cat_cols)\n",
    "cat_cols_transformed"
   ]
  },
  {
   "cell_type": "code",
   "execution_count": 80,
   "metadata": {},
   "outputs": [
    {
     "data": {
      "text/plain": [
       "['funder',\n",
       " 'installer',\n",
       " 'basin',\n",
       " 'region',\n",
       " 'lga',\n",
       " 'scheme_management',\n",
       " 'extraction_type',\n",
       " 'management',\n",
       " 'payment_type',\n",
       " 'water_quality',\n",
       " 'quantity',\n",
       " 'source',\n",
       " 'waterpoint_type']"
      ]
     },
     "execution_count": 80,
     "metadata": {},
     "output_type": "execute_result"
    }
   ],
   "source": [
    "clf_final['preprocessor'].transformers_[1][2]"
   ]
  },
  {
   "cell_type": "code",
   "execution_count": 81,
   "metadata": {},
   "outputs": [
    {
     "data": {
      "text/plain": [
       "['amount_tsh',\n",
       " 'longitude',\n",
       " 'latitude',\n",
       " 'district_code',\n",
       " 'funder_danida',\n",
       " 'funder_gov',\n",
       " 'funder_hesawa',\n",
       " 'funder_other',\n",
       " 'funder_rwssp',\n",
       " 'funder_world_bank',\n",
       " 'installer_Commu',\n",
       " 'installer_DWE',\n",
       " 'installer_Danida',\n",
       " 'installer_Gov',\n",
       " 'installer_RWE',\n",
       " 'installer_other',\n",
       " 'basin_internal',\n",
       " 'basin_lake nyasa',\n",
       " 'basin_lake rukwa',\n",
       " 'basin_lake tanganyika',\n",
       " 'basin_lake victoria',\n",
       " 'basin_pangani',\n",
       " 'basin_rufiji',\n",
       " 'basin_ruvuma / southern coast',\n",
       " 'basin_wami / ruvu',\n",
       " 'region_arusha',\n",
       " 'region_dar es salaam',\n",
       " 'region_dodoma',\n",
       " 'region_iringa',\n",
       " 'region_kagera',\n",
       " 'region_kigoma',\n",
       " 'region_kilimanjaro',\n",
       " 'region_lindi',\n",
       " 'region_manyara',\n",
       " 'region_mara',\n",
       " 'region_mbeya',\n",
       " 'region_morogoro',\n",
       " 'region_mtwara',\n",
       " 'region_mwanza',\n",
       " 'region_pwani',\n",
       " 'region_rukwa',\n",
       " 'region_ruvuma',\n",
       " 'region_shinyanga',\n",
       " 'region_singida',\n",
       " 'region_tabora',\n",
       " 'region_tanga',\n",
       " 'lga_arusha rural',\n",
       " 'lga_arusha urban',\n",
       " 'lga_babati',\n",
       " 'lga_bagamoyo',\n",
       " 'lga_bahi',\n",
       " 'lga_bariadi',\n",
       " 'lga_biharamulo',\n",
       " 'lga_bukoba rural',\n",
       " 'lga_bukoba urban',\n",
       " 'lga_bukombe',\n",
       " 'lga_bunda',\n",
       " 'lga_chamwino',\n",
       " 'lga_chato',\n",
       " 'lga_chunya',\n",
       " 'lga_dodoma urban',\n",
       " 'lga_geita',\n",
       " 'lga_hai',\n",
       " 'lga_hanang',\n",
       " 'lga_handeni',\n",
       " 'lga_igunga',\n",
       " 'lga_ilala',\n",
       " 'lga_ileje',\n",
       " 'lga_ilemela',\n",
       " 'lga_iramba',\n",
       " 'lga_iringa rural',\n",
       " 'lga_kahama',\n",
       " 'lga_karagwe',\n",
       " 'lga_karatu',\n",
       " 'lga_kasulu',\n",
       " 'lga_kibaha',\n",
       " 'lga_kibondo',\n",
       " 'lga_kigoma rural',\n",
       " 'lga_kigoma urban',\n",
       " 'lga_kilindi',\n",
       " 'lga_kilolo',\n",
       " 'lga_kilombero',\n",
       " 'lga_kilosa',\n",
       " 'lga_kilwa',\n",
       " 'lga_kinondoni',\n",
       " 'lga_kisarawe',\n",
       " 'lga_kishapu',\n",
       " 'lga_kiteto',\n",
       " 'lga_kondoa',\n",
       " 'lga_kongwa',\n",
       " 'lga_korogwe',\n",
       " 'lga_kwimba',\n",
       " 'lga_kyela',\n",
       " 'lga_lindi rural',\n",
       " 'lga_lindi urban',\n",
       " 'lga_liwale',\n",
       " 'lga_longido',\n",
       " 'lga_ludewa',\n",
       " 'lga_lushoto',\n",
       " 'lga_mafia',\n",
       " 'lga_magu',\n",
       " 'lga_makete',\n",
       " 'lga_manyoni',\n",
       " 'lga_masasi',\n",
       " 'lga_maswa',\n",
       " 'lga_mbarali',\n",
       " 'lga_mbeya rural',\n",
       " 'lga_mbinga',\n",
       " 'lga_mbozi',\n",
       " 'lga_mbulu',\n",
       " 'lga_meatu',\n",
       " 'lga_meru',\n",
       " 'lga_misenyi',\n",
       " 'lga_missungwi',\n",
       " 'lga_mkinga',\n",
       " 'lga_mkuranga',\n",
       " 'lga_monduli',\n",
       " 'lga_morogoro rural',\n",
       " 'lga_morogoro urban',\n",
       " 'lga_moshi rural',\n",
       " 'lga_moshi urban',\n",
       " 'lga_mpanda',\n",
       " 'lga_mpwapwa',\n",
       " 'lga_mtwara rural',\n",
       " 'lga_mtwara urban',\n",
       " 'lga_mufindi',\n",
       " 'lga_muheza',\n",
       " 'lga_muleba',\n",
       " 'lga_musoma rural',\n",
       " 'lga_mvomero',\n",
       " 'lga_mwanga',\n",
       " 'lga_nachingwea',\n",
       " 'lga_namtumbo',\n",
       " 'lga_nanyumbu',\n",
       " 'lga_newala',\n",
       " 'lga_ngara',\n",
       " 'lga_ngorongoro',\n",
       " 'lga_njombe',\n",
       " 'lga_nkasi',\n",
       " 'lga_nyamagana',\n",
       " 'lga_nzega',\n",
       " 'lga_pangani',\n",
       " 'lga_rombo',\n",
       " 'lga_rorya',\n",
       " 'lga_ruangwa',\n",
       " 'lga_rufiji',\n",
       " 'lga_rungwe',\n",
       " 'lga_same',\n",
       " 'lga_sengerema',\n",
       " 'lga_serengeti',\n",
       " 'lga_shinyanga rural',\n",
       " 'lga_shinyanga urban',\n",
       " 'lga_siha',\n",
       " 'lga_sikonge',\n",
       " 'lga_simanjiro',\n",
       " 'lga_singida rural',\n",
       " 'lga_singida urban',\n",
       " 'lga_songea rural',\n",
       " 'lga_songea urban',\n",
       " 'lga_sumbawanga rural',\n",
       " 'lga_sumbawanga urban',\n",
       " 'lga_tabora urban',\n",
       " 'lga_tandahimba',\n",
       " 'lga_tanga',\n",
       " 'lga_tarime',\n",
       " 'lga_temeke',\n",
       " 'lga_tunduru',\n",
       " 'lga_ukerewe',\n",
       " 'lga_ulanga',\n",
       " 'lga_urambo',\n",
       " 'lga_uyui',\n",
       " 'scheme_management_VWC',\n",
       " 'scheme_management_WUA',\n",
       " 'scheme_management_WUG',\n",
       " 'scheme_management_Water Authority',\n",
       " 'scheme_management_Water Board',\n",
       " 'scheme_management_other',\n",
       " 'extraction_type_afridev',\n",
       " 'extraction_type_cemo',\n",
       " 'extraction_type_climax',\n",
       " 'extraction_type_gravity',\n",
       " 'extraction_type_india mark ii',\n",
       " 'extraction_type_india mark iii',\n",
       " 'extraction_type_ksb',\n",
       " 'extraction_type_mono',\n",
       " 'extraction_type_nira/tanira',\n",
       " 'extraction_type_other',\n",
       " 'extraction_type_other - mkulima/shinyanga',\n",
       " 'extraction_type_other - play pump',\n",
       " 'extraction_type_other - rope pump',\n",
       " 'extraction_type_other - swn 81',\n",
       " 'extraction_type_submersible',\n",
       " 'extraction_type_swn 80',\n",
       " 'extraction_type_walimi',\n",
       " 'extraction_type_windmill',\n",
       " 'management_company',\n",
       " 'management_other',\n",
       " 'management_other - school',\n",
       " 'management_parastatal',\n",
       " 'management_private operator',\n",
       " 'management_trust',\n",
       " 'management_unknown',\n",
       " 'management_vwc',\n",
       " 'management_water authority',\n",
       " 'management_water board',\n",
       " 'management_wua',\n",
       " 'management_wug',\n",
       " 'payment_type_annually',\n",
       " 'payment_type_monthly',\n",
       " 'payment_type_never pay',\n",
       " 'payment_type_on failure',\n",
       " 'payment_type_other',\n",
       " 'payment_type_per bucket',\n",
       " 'payment_type_unknown',\n",
       " 'water_quality_coloured',\n",
       " 'water_quality_fluoride',\n",
       " 'water_quality_fluoride abandoned',\n",
       " 'water_quality_milky',\n",
       " 'water_quality_salty',\n",
       " 'water_quality_salty abandoned',\n",
       " 'water_quality_soft',\n",
       " 'water_quality_unknown',\n",
       " 'quantity_dry',\n",
       " 'quantity_enough',\n",
       " 'quantity_insufficient',\n",
       " 'quantity_seasonal',\n",
       " 'quantity_unknown',\n",
       " 'source_dam',\n",
       " 'source_hand dtw',\n",
       " 'source_lake',\n",
       " 'source_machine dbh',\n",
       " 'source_other',\n",
       " 'source_rainwater harvesting',\n",
       " 'source_river',\n",
       " 'source_shallow well',\n",
       " 'source_spring',\n",
       " 'source_unknown',\n",
       " 'waterpoint_type_cattle trough',\n",
       " 'waterpoint_type_communal standpipe',\n",
       " 'waterpoint_type_communal standpipe multiple',\n",
       " 'waterpoint_type_dam',\n",
       " 'waterpoint_type_hand pump',\n",
       " 'waterpoint_type_improved spring',\n",
       " 'waterpoint_type_other']"
      ]
     },
     "execution_count": 81,
     "metadata": {},
     "output_type": "execute_result"
    }
   ],
   "source": [
    "final_cols = [*num_cols, *cat_cols_transformed]\n",
    "final_cols"
   ]
  },
  {
   "cell_type": "code",
   "execution_count": 124,
   "metadata": {},
   "outputs": [],
   "source": [
    "feature_importance_df = pd.DataFrame.from_dict(dict(zip(final_cols, clf_final['classifier'].feature_importances_)), \n",
    "                       orient='index').sort_values(by=0, ascending=False)"
   ]
  },
  {
   "cell_type": "code",
   "execution_count": 131,
   "metadata": {},
   "outputs": [
    {
     "data": {
      "text/plain": [
       "{'quantity_dry': [0.1781053715227102],\n",
       " 'extraction_type_other': [0.1076464439424695],\n",
       " 'waterpoint_type_other': [0.09059627773937057],\n",
       " 'quantity_enough': [0.08871978814942799],\n",
       " 'amount_tsh': [0.06334461828771878],\n",
       " 'waterpoint_type_communal standpipe': [0.03644945273862874],\n",
       " 'region_iringa': [0.03611035342054373],\n",
       " 'payment_type_never pay': [0.02639576674324922],\n",
       " 'water_quality_unknown': [0.026138256640691117],\n",
       " 'waterpoint_type_hand pump': [0.020885383031044806],\n",
       " 'waterpoint_type_communal standpipe multiple': [0.020873207321880614],\n",
       " 'payment_type_per bucket': [0.02006772946823343],\n",
       " 'longitude': [0.019468987565076708],\n",
       " 'management_vwc': [0.01527053422894399],\n",
       " 'payment_type_annually': [0.015168946320164209],\n",
       " 'extraction_type_nira/tanira': [0.013778164724452893],\n",
       " 'latitude': [0.0134754101715558],\n",
       " 'funder_gov': [0.011241633409523265],\n",
       " 'funder_other': [0.011221474420239436],\n",
       " 'source_spring': [0.010218958729416435],\n",
       " 'water_quality_soft': [0.008692094244024822],\n",
       " 'district_code': [0.007681168606350515],\n",
       " 'lga_njombe': [0.007677400197824165],\n",
       " 'installer_RWE': [0.006173948507941769],\n",
       " 'scheme_management_Water Board': [0.005978381992909806],\n",
       " 'quantity_insufficient': [0.005790565445471869],\n",
       " 'management_water board': [0.005728413097148297],\n",
       " 'extraction_type_gravity': [0.005654624551461212],\n",
       " 'payment_type_monthly': [0.0054949021542795825],\n",
       " 'management_private operator': [0.005164623968353997],\n",
       " 'payment_type_unknown': [0.0050601011258344574],\n",
       " 'installer_Gov': [0.003956984633775154],\n",
       " 'basin_ruvuma / southern coast': [0.00357051774106329],\n",
       " 'basin_lake nyasa': [0.0034713357423771193],\n",
       " 'region_arusha': [0.003042815592659882],\n",
       " 'region_mtwara': [0.002831392793040769],\n",
       " 'quantity_seasonal': [0.0028106136527221944],\n",
       " 'region_kigoma': [0.0026304158190069266],\n",
       " 'source_shallow well': [0.002629308153976393],\n",
       " 'extraction_type_mono': [0.0025311043008429644],\n",
       " 'basin_lake tanganyika': [0.00231709373006614],\n",
       " 'scheme_management_VWC': [0.0023099725800060644],\n",
       " 'waterpoint_type_improved spring': [0.002306104119883355],\n",
       " 'management_wua': [0.00219994021734344],\n",
       " 'source_rainwater harvesting': [0.002173510655898056],\n",
       " 'extraction_type_ksb': [0.0018555337776762833],\n",
       " 'scheme_management_WUG': [0.001796100198806228],\n",
       " 'source_machine dbh': [0.0017655784553108312],\n",
       " 'installer_Commu': [0.001747446287589504],\n",
       " 'extraction_type_afridev': [0.001617093507220175],\n",
       " 'lga_makete': [0.0015850619025189663],\n",
       " 'basin_rufiji': [0.0015816618179306024],\n",
       " 'source_lake': [0.001444657362527305],\n",
       " 'region_kagera': [0.0014429524269480535],\n",
       " 'region_lindi': [0.0014179889065954012],\n",
       " 'lga_kigoma rural': [0.0013999828917734816],\n",
       " 'region_kilimanjaro': [0.0013641605633027511],\n",
       " 'region_mbeya': [0.001327104873091996],\n",
       " 'basin_lake rukwa': [0.0013261365966480865],\n",
       " 'region_shinyanga': [0.0012925520795889212],\n",
       " 'lga_singida rural': [0.0012248720962610437],\n",
       " 'lga_hai': [0.0012119300901096337],\n",
       " 'scheme_management_Water Authority': [0.0011969202994701342],\n",
       " 'funder_hesawa': [0.0011914321667298403],\n",
       " 'source_river': [0.0011777690180674524],\n",
       " 'lga_pangani': [0.0011747375766603901],\n",
       " 'basin_lake victoria': [0.0011733583429490342],\n",
       " 'region_rukwa': [0.0011125642201869621],\n",
       " 'lga_siha': [0.0011120380683447765],\n",
       " 'basin_pangani': [0.0010825198871866738],\n",
       " 'lga_arusha rural': [0.00106546060312191],\n",
       " 'scheme_management_WUA': [0.0009320763947117588],\n",
       " 'region_ruvuma': [0.0009203706445991086],\n",
       " 'management_wug': [0.000901029787080306],\n",
       " 'installer_other': [0.0008646092772182915],\n",
       " 'lga_moshi rural': [0.0008227802555526959],\n",
       " 'lga_bagamoyo': [0.0008142139641694605],\n",
       " 'region_pwani': [0.0007481547232758474],\n",
       " 'scheme_management_other': [0.000729855727594448],\n",
       " 'installer_DWE': [0.0007121961706779821],\n",
       " 'quantity_unknown': [0.0006778538441609171],\n",
       " 'lga_newala': [0.0006761806854445788],\n",
       " 'basin_internal': [0.0006524067447959932],\n",
       " 'lga_karatu': [0.0006420842375417943],\n",
       " 'funder_danida': [0.0006005866848440703],\n",
       " 'water_quality_salty': [0.0005645546997617028],\n",
       " 'basin_wami / ruvu': [0.0005530792758815638],\n",
       " 'funder_rwssp': [0.0005300208609371527],\n",
       " 'lga_kyela': [0.0005133003251613039],\n",
       " 'funder_world_bank': [0.0004958463025380211],\n",
       " 'lga_dodoma urban': [0.000488545684553376],\n",
       " 'lga_chunya': [0.00048330487135020536],\n",
       " 'management_water authority': [0.00048299399631846466],\n",
       " 'region_manyara': [0.0004631098460292822],\n",
       " 'lga_kahama': [0.0004613386113551835],\n",
       " 'lga_masasi': [0.00042401025692028545],\n",
       " 'region_dar es salaam': [0.0004074726166748137],\n",
       " 'lga_rorya': [0.0003952069047045177],\n",
       " 'lga_geita': [0.00038806384345492257],\n",
       " 'lga_nachingwea': [0.000386740326087317],\n",
       " 'management_parastatal': [0.00035652467050652296],\n",
       " 'lga_ilala': [0.0003498273715995822],\n",
       " 'lga_rombo': [0.00034320678831297125],\n",
       " 'lga_babati': [0.0003413142883110619],\n",
       " 'installer_Danida': [0.0003223541026816006],\n",
       " 'region_singida': [0.00031945001562914694],\n",
       " 'lga_same': [0.0003169863656954569],\n",
       " 'region_mara': [0.0003104230561178655],\n",
       " 'lga_mpanda': [0.0003093368639370034],\n",
       " 'lga_mbarali': [0.000303910062477108],\n",
       " 'extraction_type_submersible': [0.0002885571264345115],\n",
       " 'lga_igunga': [0.0002805438904386201],\n",
       " 'extraction_type_swn 80': [0.00027929032789238725],\n",
       " 'lga_missungwi': [0.00027070674827637555],\n",
       " 'management_unknown': [0.00025735904221972416],\n",
       " 'payment_type_on failure': [0.00025113926850234356],\n",
       " 'source_other': [0.00024910267759206515],\n",
       " 'lga_ngara': [0.0002369523136752423],\n",
       " 'lga_kasulu': [0.00023486746973700178],\n",
       " 'lga_rungwe': [0.00023076912739573754],\n",
       " 'lga_karagwe': [0.00023020887573466578],\n",
       " 'lga_kwimba': [0.00022845808409911034],\n",
       " 'source_dam': [0.00022215134942040463],\n",
       " 'lga_meatu': [0.0002198725043476711],\n",
       " 'water_quality_salty abandoned': [0.00021968305374524348],\n",
       " 'lga_monduli': [0.0002138530634364851],\n",
       " 'lga_bariadi': [0.00021354868909582213],\n",
       " 'region_morogoro': [0.00021026987207718717],\n",
       " 'lga_songea rural': [0.0002039614823847853],\n",
       " 'lga_sengerema': [0.00020193911369665714],\n",
       " 'extraction_type_india mark ii': [0.00019952273427975862],\n",
       " 'lga_mkinga': [0.0001985997442202583],\n",
       " 'lga_serengeti': [0.00019846395512258897],\n",
       " 'lga_kilwa': [0.00018971470601924725],\n",
       " 'management_other': [0.00018598326050634024],\n",
       " 'water_quality_milky': [0.0001828408660528651],\n",
       " 'lga_bunda': [0.0001782998627196795],\n",
       " 'region_tanga': [0.00017753304852526127],\n",
       " 'lga_magu': [0.00016902112811538163],\n",
       " 'lga_musoma rural': [0.00016549031909158813],\n",
       " 'lga_shinyanga rural': [0.00014492731730350228],\n",
       " 'region_mwanza': [0.000143756256867214],\n",
       " 'lga_ukerewe': [0.00014148062213462638],\n",
       " 'lga_kisarawe': [0.00013686281207676935],\n",
       " 'region_dodoma': [0.0001357989940303419],\n",
       " 'lga_kilolo': [0.0001271247600405884],\n",
       " 'lga_kilosa': [0.00012699348031065068],\n",
       " 'lga_temeke': [0.00011690205545750484],\n",
       " 'lga_maswa': [0.00011267043372632148],\n",
       " 'management_trust': [0.00010875092843698888],\n",
       " 'lga_muheza': [0.00010574296315041017],\n",
       " 'lga_tandahimba': [0.00010422502967840436],\n",
       " 'lga_kongwa': [0.00010386926319848523],\n",
       " 'lga_mpwapwa': [9.88086348576125e-05],\n",
       " 'lga_ruangwa': [9.619038299510927e-05],\n",
       " 'lga_kibondo': [8.886671690942284e-05],\n",
       " 'lga_mkuranga': [8.136603893140231e-05],\n",
       " 'region_tabora': [7.797010131505869e-05],\n",
       " 'lga_tarime': [7.663671883305878e-05],\n",
       " 'lga_tunduru': [7.308847622523235e-05],\n",
       " 'lga_mbozi': [6.683989262469806e-05],\n",
       " 'lga_nkasi': [6.555911030487882e-05],\n",
       " 'lga_mtwara rural': [6.520937419885989e-05],\n",
       " 'lga_kilindi': [6.103955351127125e-05],\n",
       " 'lga_nzega': [5.765142520908e-05],\n",
       " 'lga_mbeya rural': [5.660804098407719e-05],\n",
       " 'lga_mufindi': [5.552481062391681e-05],\n",
       " 'lga_uyui': [5.293759616717353e-05],\n",
       " 'lga_ileje': [5.038169236068791e-05],\n",
       " 'lga_rufiji': [4.704369757255051e-05],\n",
       " 'lga_moshi urban': [4.499461567875337e-05],\n",
       " 'lga_meru': [4.470790687147362e-05],\n",
       " 'water_quality_coloured': [4.40458837968563e-05],\n",
       " 'lga_ludewa': [4.244876569570752e-05],\n",
       " 'lga_iringa rural': [4.1520096457554863e-05],\n",
       " 'lga_iramba': [3.718221552158664e-05],\n",
       " 'lga_kiteto': [3.630299400350273e-05],\n",
       " 'lga_biharamulo': [3.550728594006323e-05],\n",
       " 'lga_morogoro rural': [3.463832615355604e-05],\n",
       " 'lga_namtumbo': [3.4518427707493145e-05],\n",
       " 'lga_mwanga': [3.0834112745141494e-05],\n",
       " 'lga_mvomero': [2.7793002590990258e-05],\n",
       " 'lga_korogwe': [2.7429353521692817e-05],\n",
       " 'lga_kibaha': [2.4694382121790842e-05],\n",
       " 'lga_shinyanga urban': [2.379848305710008e-05],\n",
       " 'lga_misenyi': [2.321909730124715e-05],\n",
       " 'payment_type_other': [2.27862802492055e-05],\n",
       " 'lga_kinondoni': [2.0334237965522757e-05],\n",
       " 'lga_sumbawanga rural': [1.960919721792534e-05],\n",
       " 'lga_chamwino': [1.8281523097217116e-05],\n",
       " 'extraction_type_climax': [1.75759687657579e-05],\n",
       " 'extraction_type_other - swn 81': [1.739193718645113e-05],\n",
       " 'lga_ngorongoro': [1.5951864636961635e-05],\n",
       " 'extraction_type_india mark iii': [1.5539119599110873e-05],\n",
       " 'source_unknown': [1.5322352760363512e-05],\n",
       " 'lga_simanjiro': [1.5021811417526586e-05],\n",
       " 'management_company': [1.4303189111319962e-05],\n",
       " 'lga_mafia': [1.4260479010323428e-05],\n",
       " 'lga_lindi rural': [1.3038683406450465e-05],\n",
       " 'source_hand dtw': [1.2206091286490722e-05],\n",
       " 'lga_ilemela': [1.2193352522639274e-05],\n",
       " 'lga_ulanga': [1.202143657800007e-05],\n",
       " 'lga_nanyumbu': [1.1505343231207835e-05],\n",
       " 'lga_bukoba urban': [1.0265544773762679e-05],\n",
       " 'water_quality_fluoride': [9.859152634921146e-06],\n",
       " 'lga_lushoto': [9.825072142865846e-06],\n",
       " 'management_other - school': [8.521519275761537e-06],\n",
       " 'lga_longido': [7.676190033286107e-06],\n",
       " 'waterpoint_type_cattle trough': [4.383336920823657e-06],\n",
       " 'lga_kishapu': [3.8103330038530517e-06],\n",
       " 'lga_bukombe': [3.210151745313968e-06],\n",
       " 'extraction_type_other - rope pump': [1.666029974404356e-06],\n",
       " 'lga_kondoa': [1.0541543744027236e-06],\n",
       " 'lga_mbinga': [9.625731978573388e-07],\n",
       " 'lga_kilombero': [8.828726886887864e-07],\n",
       " 'lga_bukoba rural': [3.470022524899567e-07],\n",
       " 'lga_tabora urban': [0.0],\n",
       " 'lga_bahi': [0.0],\n",
       " 'lga_chato': [0.0],\n",
       " 'lga_tanga': [0.0],\n",
       " 'lga_arusha urban': [0.0],\n",
       " 'lga_hanang': [0.0],\n",
       " 'lga_sumbawanga urban': [0.0],\n",
       " 'lga_handeni': [0.0],\n",
       " 'lga_singida urban': [0.0],\n",
       " 'lga_songea urban': [0.0],\n",
       " 'waterpoint_type_dam': [0.0],\n",
       " 'extraction_type_cemo': [0.0],\n",
       " 'lga_urambo': [0.0],\n",
       " 'lga_nyamagana': [0.0],\n",
       " 'lga_kigoma urban': [0.0],\n",
       " 'lga_muleba': [0.0],\n",
       " 'water_quality_fluoride abandoned': [0.0],\n",
       " 'lga_morogoro urban': [0.0],\n",
       " 'extraction_type_other - mkulima/shinyanga': [0.0],\n",
       " 'extraction_type_other - play pump': [0.0],\n",
       " 'lga_lindi urban': [0.0],\n",
       " 'lga_liwale': [0.0],\n",
       " 'extraction_type_walimi': [0.0],\n",
       " 'lga_manyoni': [0.0],\n",
       " 'extraction_type_windmill': [0.0],\n",
       " 'lga_sikonge': [0.0],\n",
       " 'lga_mbulu': [0.0],\n",
       " 'lga_mtwara urban': [0.0]}"
      ]
     },
     "execution_count": 131,
     "metadata": {},
     "output_type": "execute_result"
    }
   ],
   "source": [
    "feature_importance_df['index1'] = feature_importance_df.index\n",
    "feature_importance_df.set_index('index1').T.to_dict('list')"
   ]
  },
  {
   "cell_type": "code",
   "execution_count": 48,
   "metadata": {},
   "outputs": [
    {
     "data": {
      "text/plain": [
       "never pay     25348\n",
       "per bucket     8985\n",
       "monthly        8300\n",
       "unknown        8157\n",
       "on failure     3914\n",
       "annually       3642\n",
       "other          1054\n",
       "Name: payment_type, dtype: int64"
      ]
     },
     "execution_count": 48,
     "metadata": {},
     "output_type": "execute_result"
    }
   ],
   "source": [
    "df['payment_type'].value_counts()\n"
   ]
  },
  {
   "cell_type": "code",
   "execution_count": 47,
   "metadata": {},
   "outputs": [
    {
     "data": {
      "text/plain": [
       "other         42277\n",
       "gov            9084\n",
       "danida         3114\n",
       "hesawa         2202\n",
       "rwssp          1374\n",
       "world_bank     1349\n",
       "Name: funder, dtype: int64"
      ]
     },
     "execution_count": 47,
     "metadata": {},
     "output_type": "execute_result"
    }
   ],
   "source": [
    "df['funder'].value_counts()"
   ]
  },
  {
   "cell_type": "code",
   "execution_count": null,
   "metadata": {},
   "outputs": [],
   "source": []
  },
  {
   "cell_type": "markdown",
   "metadata": {},
   "source": [
    "### Baseline Understanding\n",
    "\n",
    "- What does a baseline, model-less prediction look like?"
   ]
  },
  {
   "cell_type": "code",
   "execution_count": null,
   "metadata": {},
   "outputs": [],
   "source": [
    "# code here to arrive at a baseline prediction"
   ]
  },
  {
   "cell_type": "markdown",
   "metadata": {},
   "source": [
    "### First $&(@# Model\n",
    "\n",
    "Before going too far down the data preparation rabbit hole, be sure to check your work against a first 'substandard' model! What is the easiest way for you to find out how hard your problem is?"
   ]
  },
  {
   "cell_type": "code",
   "execution_count": null,
   "metadata": {},
   "outputs": [],
   "source": [
    "# code here for your first 'substandard' model"
   ]
  },
  {
   "cell_type": "code",
   "execution_count": null,
   "metadata": {},
   "outputs": [],
   "source": [
    "# code here to evaluate your first 'substandard' model"
   ]
  },
  {
   "cell_type": "markdown",
   "metadata": {},
   "source": [
    "### Modeling Iterations\n",
    "\n",
    "Now you can start to use the results of your first model to iterate - there are many options!"
   ]
  },
  {
   "cell_type": "code",
   "execution_count": null,
   "metadata": {},
   "outputs": [],
   "source": [
    "# code here to iteratively improve your models"
   ]
  },
  {
   "cell_type": "code",
   "execution_count": null,
   "metadata": {},
   "outputs": [],
   "source": [
    "# code here to evaluate your iterations"
   ]
  },
  {
   "cell_type": "markdown",
   "metadata": {},
   "source": [
    "### 'Final' Model\n",
    "\n",
    "In the end, you'll arrive at a 'final' model - aka the one you'll use to make your recommendations/conclusions. This likely blends any group work. It might not be the one with the highest scores, but instead might be considered 'final' or 'best' for other reasons."
   ]
  },
  {
   "cell_type": "code",
   "execution_count": null,
   "metadata": {},
   "outputs": [],
   "source": [
    "# code here to show your final model"
   ]
  },
  {
   "cell_type": "code",
   "execution_count": null,
   "metadata": {},
   "outputs": [],
   "source": [
    "# code here to evaluate your final model"
   ]
  },
  {
   "cell_type": "markdown",
   "metadata": {},
   "source": [
    "## Conclusions\n",
    "\n",
    "Provide your conclusions about the work you've done, including any limitations or next steps.\n",
    "\n",
    "Questions to consider:\n",
    "\n",
    "- What would you recommend the business do as a result of this work?\n",
    "- How could the stakeholder use your model effectively?\n",
    "- What are some reasons why your analysis might not fully solve the business problem?\n",
    "- What else could you do in the future to improve this project (future work)?\n"
   ]
  },
  {
   "cell_type": "code",
   "execution_count": null,
   "metadata": {},
   "outputs": [],
   "source": []
  },
  {
   "cell_type": "code",
   "execution_count": null,
   "metadata": {},
   "outputs": [],
   "source": []
  }
 ],
 "metadata": {
  "kernelspec": {
   "display_name": "Python (learn-env)",
   "language": "python",
   "name": "learn-env"
  },
  "language_info": {
   "codemirror_mode": {
    "name": "ipython",
    "version": 3
   },
   "file_extension": ".py",
   "mimetype": "text/x-python",
   "name": "python",
   "nbconvert_exporter": "python",
   "pygments_lexer": "ipython3",
   "version": "3.8.5"
  }
 },
 "nbformat": 4,
 "nbformat_minor": 4
}
